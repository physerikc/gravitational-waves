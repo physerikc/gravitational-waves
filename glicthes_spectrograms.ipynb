{
 "cells": [
  {
   "cell_type": "markdown",
   "id": "8dc1aca4-2c30-4e3a-ac94-b3c218ad6a43",
   "metadata": {},
   "source": [
    "## Using Gravity Spy pipeline to reclassifying glitches"
   ]
  },
  {
   "cell_type": "code",
   "execution_count": 2,
   "id": "63eb3236-de45-4415-b376-32d381fdcfcc",
   "metadata": {},
   "outputs": [],
   "source": [
    "%matplotlib inline\n",
    "# %matplotlib qt"
   ]
  },
  {
   "cell_type": "code",
   "execution_count": 3,
   "id": "9bb1f66b-4008-4e82-8433-694a7a2b92a8",
   "metadata": {
    "scrolled": true
   },
   "outputs": [
    {
     "name": "stdout",
     "output_type": "stream",
     "text": [
      "Requirement already satisfied: keras in c:\\users\\erick\\anaconda3\\lib\\site-packages (3.9.2)\n",
      "Requirement already satisfied: absl-py in c:\\users\\erick\\anaconda3\\lib\\site-packages (from keras) (2.2.2)\n",
      "Requirement already satisfied: numpy in c:\\users\\erick\\anaconda3\\lib\\site-packages (from keras) (1.26.4)\n",
      "Requirement already satisfied: rich in c:\\users\\erick\\anaconda3\\lib\\site-packages (from keras) (13.3.5)\n",
      "Requirement already satisfied: namex in c:\\users\\erick\\anaconda3\\lib\\site-packages (from keras) (0.0.9)\n",
      "Requirement already satisfied: h5py in c:\\users\\erick\\anaconda3\\lib\\site-packages (from keras) (3.13.0)\n",
      "Requirement already satisfied: optree in c:\\users\\erick\\anaconda3\\lib\\site-packages (from keras) (0.15.0)\n",
      "Requirement already satisfied: ml-dtypes in c:\\users\\erick\\anaconda3\\lib\\site-packages (from keras) (0.5.1)\n",
      "Requirement already satisfied: packaging in c:\\users\\erick\\anaconda3\\lib\\site-packages (from keras) (23.1)\n",
      "Requirement already satisfied: typing-extensions>=4.5.0 in c:\\users\\erick\\anaconda3\\lib\\site-packages (from optree->keras) (4.9.0)\n",
      "Requirement already satisfied: markdown-it-py<3.0.0,>=2.2.0 in c:\\users\\erick\\anaconda3\\lib\\site-packages (from rich->keras) (2.2.0)\n",
      "Requirement already satisfied: pygments<3.0.0,>=2.13.0 in c:\\users\\erick\\anaconda3\\lib\\site-packages (from rich->keras) (2.15.1)\n",
      "Requirement already satisfied: mdurl~=0.1 in c:\\users\\erick\\anaconda3\\lib\\site-packages (from markdown-it-py<3.0.0,>=2.2.0->rich->keras) (0.1.0)\n",
      "Requirement already satisfied: tensorflow in c:\\users\\erick\\anaconda3\\lib\\site-packages (2.19.0)\n",
      "Requirement already satisfied: absl-py>=1.0.0 in c:\\users\\erick\\anaconda3\\lib\\site-packages (from tensorflow) (2.2.2)\n",
      "Requirement already satisfied: astunparse>=1.6.0 in c:\\users\\erick\\anaconda3\\lib\\site-packages (from tensorflow) (1.6.3)\n",
      "Requirement already satisfied: flatbuffers>=24.3.25 in c:\\users\\erick\\anaconda3\\lib\\site-packages (from tensorflow) (25.2.10)\n",
      "Requirement already satisfied: gast!=0.5.0,!=0.5.1,!=0.5.2,>=0.2.1 in c:\\users\\erick\\anaconda3\\lib\\site-packages (from tensorflow) (0.6.0)\n",
      "Requirement already satisfied: google-pasta>=0.1.1 in c:\\users\\erick\\anaconda3\\lib\\site-packages (from tensorflow) (0.2.0)\n",
      "Requirement already satisfied: libclang>=13.0.0 in c:\\users\\erick\\anaconda3\\lib\\site-packages (from tensorflow) (18.1.1)\n",
      "Requirement already satisfied: opt-einsum>=2.3.2 in c:\\users\\erick\\anaconda3\\lib\\site-packages (from tensorflow) (3.4.0)\n",
      "Requirement already satisfied: packaging in c:\\users\\erick\\anaconda3\\lib\\site-packages (from tensorflow) (23.1)\n",
      "Requirement already satisfied: protobuf!=4.21.0,!=4.21.1,!=4.21.2,!=4.21.3,!=4.21.4,!=4.21.5,<6.0.0dev,>=3.20.3 in c:\\users\\erick\\anaconda3\\lib\\site-packages (from tensorflow) (3.20.3)\n",
      "Requirement already satisfied: requests<3,>=2.21.0 in c:\\users\\erick\\anaconda3\\lib\\site-packages (from tensorflow) (2.31.0)\n",
      "Requirement already satisfied: setuptools in c:\\users\\erick\\anaconda3\\lib\\site-packages (from tensorflow) (75.1.0)\n",
      "Requirement already satisfied: six>=1.12.0 in c:\\users\\erick\\anaconda3\\lib\\site-packages (from tensorflow) (1.16.0)\n",
      "Requirement already satisfied: termcolor>=1.1.0 in c:\\users\\erick\\anaconda3\\lib\\site-packages (from tensorflow) (3.1.0)\n",
      "Requirement already satisfied: typing-extensions>=3.6.6 in c:\\users\\erick\\anaconda3\\lib\\site-packages (from tensorflow) (4.9.0)\n",
      "Requirement already satisfied: wrapt>=1.11.0 in c:\\users\\erick\\anaconda3\\lib\\site-packages (from tensorflow) (1.14.1)\n",
      "Requirement already satisfied: grpcio<2.0,>=1.24.3 in c:\\users\\erick\\anaconda3\\lib\\site-packages (from tensorflow) (1.71.0)\n",
      "Requirement already satisfied: tensorboard~=2.19.0 in c:\\users\\erick\\anaconda3\\lib\\site-packages (from tensorflow) (2.19.0)\n",
      "Requirement already satisfied: keras>=3.5.0 in c:\\users\\erick\\anaconda3\\lib\\site-packages (from tensorflow) (3.9.2)\n",
      "Requirement already satisfied: numpy<2.2.0,>=1.26.0 in c:\\users\\erick\\anaconda3\\lib\\site-packages (from tensorflow) (1.26.4)\n",
      "Requirement already satisfied: h5py>=3.11.0 in c:\\users\\erick\\anaconda3\\lib\\site-packages (from tensorflow) (3.13.0)\n",
      "Requirement already satisfied: ml-dtypes<1.0.0,>=0.5.1 in c:\\users\\erick\\anaconda3\\lib\\site-packages (from tensorflow) (0.5.1)\n",
      "Requirement already satisfied: tensorflow-io-gcs-filesystem>=0.23.1 in c:\\users\\erick\\anaconda3\\lib\\site-packages (from tensorflow) (0.31.0)\n",
      "Requirement already satisfied: charset-normalizer<4,>=2 in c:\\users\\erick\\anaconda3\\lib\\site-packages (from requests<3,>=2.21.0->tensorflow) (2.0.4)\n",
      "Requirement already satisfied: idna<4,>=2.5 in c:\\users\\erick\\anaconda3\\lib\\site-packages (from requests<3,>=2.21.0->tensorflow) (3.4)\n",
      "Requirement already satisfied: urllib3<3,>=1.21.1 in c:\\users\\erick\\anaconda3\\lib\\site-packages (from requests<3,>=2.21.0->tensorflow) (1.26.19)\n",
      "Requirement already satisfied: certifi>=2017.4.17 in c:\\users\\erick\\anaconda3\\lib\\site-packages (from requests<3,>=2.21.0->tensorflow) (2024.8.30)\n",
      "Requirement already satisfied: markdown>=2.6.8 in c:\\users\\erick\\anaconda3\\lib\\site-packages (from tensorboard~=2.19.0->tensorflow) (3.4.1)\n",
      "Requirement already satisfied: tensorboard-data-server<0.8.0,>=0.7.0 in c:\\users\\erick\\anaconda3\\lib\\site-packages (from tensorboard~=2.19.0->tensorflow) (0.7.2)\n",
      "Requirement already satisfied: werkzeug>=1.0.1 in c:\\users\\erick\\anaconda3\\lib\\site-packages (from tensorboard~=2.19.0->tensorflow) (2.2.3)\n",
      "Requirement already satisfied: wheel<1.0,>=0.23.0 in c:\\users\\erick\\anaconda3\\lib\\site-packages (from astunparse>=1.6.0->tensorflow) (0.44.0)\n",
      "Requirement already satisfied: rich in c:\\users\\erick\\anaconda3\\lib\\site-packages (from keras>=3.5.0->tensorflow) (13.3.5)\n",
      "Requirement already satisfied: namex in c:\\users\\erick\\anaconda3\\lib\\site-packages (from keras>=3.5.0->tensorflow) (0.0.9)\n",
      "Requirement already satisfied: optree in c:\\users\\erick\\anaconda3\\lib\\site-packages (from keras>=3.5.0->tensorflow) (0.15.0)\n",
      "Requirement already satisfied: MarkupSafe>=2.1.1 in c:\\users\\erick\\anaconda3\\lib\\site-packages (from werkzeug>=1.0.1->tensorboard~=2.19.0->tensorflow) (2.1.3)\n",
      "Requirement already satisfied: markdown-it-py<3.0.0,>=2.2.0 in c:\\users\\erick\\anaconda3\\lib\\site-packages (from rich->keras>=3.5.0->tensorflow) (2.2.0)\n",
      "Requirement already satisfied: pygments<3.0.0,>=2.13.0 in c:\\users\\erick\\anaconda3\\lib\\site-packages (from rich->keras>=3.5.0->tensorflow) (2.15.1)\n",
      "Requirement already satisfied: mdurl~=0.1 in c:\\users\\erick\\anaconda3\\lib\\site-packages (from markdown-it-py<3.0.0,>=2.2.0->rich->keras>=3.5.0->tensorflow) (0.1.0)\n"
     ]
    }
   ],
   "source": [
    "!pip install keras\n",
    "!pip install tensorflow"
   ]
  },
  {
   "cell_type": "code",
   "execution_count": 4,
   "id": "74e7d3a3-54ae-4d0b-bb60-43a16ca212dd",
   "metadata": {},
   "outputs": [
    {
     "name": "stdout",
     "output_type": "stream",
     "text": [
      "Requirement already satisfied: gwtrigfind in c:\\users\\erick\\anaconda3\\lib\\site-packages (0.8.3)\n",
      "Requirement already satisfied: gpstime in c:\\users\\erick\\anaconda3\\lib\\site-packages (from gwtrigfind) (0.8.2)\n",
      "Requirement already satisfied: ligo-segments in c:\\users\\erick\\anaconda3\\lib\\site-packages (from gwtrigfind) (1.4.0)\n",
      "Requirement already satisfied: appdirs in c:\\users\\erick\\anaconda3\\lib\\site-packages (from gpstime->gwtrigfind) (1.4.4)\n",
      "Requirement already satisfied: python-dateutil in c:\\users\\erick\\anaconda3\\lib\\site-packages (from gpstime->gwtrigfind) (2.8.2)\n",
      "Requirement already satisfied: requests in c:\\users\\erick\\anaconda3\\lib\\site-packages (from gpstime->gwtrigfind) (2.31.0)\n",
      "Requirement already satisfied: six in c:\\users\\erick\\anaconda3\\lib\\site-packages (from ligo-segments->gwtrigfind) (1.16.0)\n",
      "Requirement already satisfied: charset-normalizer<4,>=2 in c:\\users\\erick\\anaconda3\\lib\\site-packages (from requests->gpstime->gwtrigfind) (2.0.4)\n",
      "Requirement already satisfied: idna<4,>=2.5 in c:\\users\\erick\\anaconda3\\lib\\site-packages (from requests->gpstime->gwtrigfind) (3.4)\n",
      "Requirement already satisfied: urllib3<3,>=1.21.1 in c:\\users\\erick\\anaconda3\\lib\\site-packages (from requests->gpstime->gwtrigfind) (1.26.19)\n",
      "Requirement already satisfied: certifi>=2017.4.17 in c:\\users\\erick\\anaconda3\\lib\\site-packages (from requests->gpstime->gwtrigfind) (2024.8.30)\n",
      "Requirement already satisfied: panoptes_client in c:\\users\\erick\\anaconda3\\lib\\site-packages (1.7.0)\n",
      "Requirement already satisfied: requests>=2.4.2 in c:\\users\\erick\\anaconda3\\lib\\site-packages (from panoptes_client) (2.31.0)\n",
      "Requirement already satisfied: future>=0.16 in c:\\users\\erick\\anaconda3\\lib\\site-packages (from panoptes_client) (0.18.3)\n",
      "Requirement already satisfied: python-magic>=0.4 in c:\\users\\erick\\anaconda3\\lib\\site-packages (from panoptes_client) (0.4.27)\n",
      "Requirement already satisfied: redo>=1.7 in c:\\users\\erick\\anaconda3\\lib\\site-packages (from panoptes_client) (3.0.0)\n",
      "Requirement already satisfied: six>=1.9 in c:\\users\\erick\\anaconda3\\lib\\site-packages (from panoptes_client) (1.16.0)\n",
      "Requirement already satisfied: charset-normalizer<4,>=2 in c:\\users\\erick\\anaconda3\\lib\\site-packages (from requests>=2.4.2->panoptes_client) (2.0.4)\n",
      "Requirement already satisfied: idna<4,>=2.5 in c:\\users\\erick\\anaconda3\\lib\\site-packages (from requests>=2.4.2->panoptes_client) (3.4)\n",
      "Requirement already satisfied: urllib3<3,>=1.21.1 in c:\\users\\erick\\anaconda3\\lib\\site-packages (from requests>=2.4.2->panoptes_client) (1.26.19)\n",
      "Requirement already satisfied: certifi>=2017.4.17 in c:\\users\\erick\\anaconda3\\lib\\site-packages (from requests>=2.4.2->panoptes_client) (2024.8.30)\n"
     ]
    }
   ],
   "source": [
    "!pip install gwtrigfind\n",
    "!pip install panoptes_client"
   ]
  },
  {
   "cell_type": "code",
   "execution_count": 5,
   "id": "1ab99a87-b7ba-44c9-a74b-49f7d21346e9",
   "metadata": {},
   "outputs": [],
   "source": [
    "import sys\n",
    "from pathlib import Path\n",
    "\n",
    "# Caminho absoluto para a pasta GravitySpy-develop\n",
    "gravityspy_root = Path(\"GravitySpy-develop\").resolve()\n",
    "\n",
    "# Adiciona ao sys.path\n",
    "if str(gravityspy_root) not in sys.path:\n",
    "    sys.path.append(str(gravityspy_root))"
   ]
  },
  {
   "cell_type": "code",
   "execution_count": 6,
   "id": "91fd9ba7-ea69-4526-8992-8328787d1e42",
   "metadata": {},
   "outputs": [],
   "source": [
    "from gwpy.timeseries import TimeSeries\n",
    "import pandas as pd\n",
    "import matplotlib.pyplot as plt\n",
    "import warnings\n",
    "import requests\n",
    "import sys\n",
    "\n",
    "from astropy.time import Time\n",
    "from gwosc.datasets import event_gps\n",
    "\n",
    "#FIXME: your path to your Gravity Spy repo\n",
    "path_to_repo = \"C:/Users/erick/Downloads/GW research/glitches/python/GravitySpy-develop/GravitySpy-develop\"\n",
    "sys.path.insert(0, path_to_repo)\n",
    "\n",
    "from gravityspy.classify import classify\n",
    "from gravityspy.utils import utils\n",
    "from gravityspy.plot import plot_qtransform\n",
    "warnings.filterwarnings('ignore')"
   ]
  },
  {
   "cell_type": "code",
   "execution_count": 7,
   "id": "bf7d576f-1d48-49e0-92d4-74ed08130eea",
   "metadata": {},
   "outputs": [
    {
     "ename": "FileNotFoundError",
     "evalue": "[Errno 2] No such file or directory: './websites data/H1_O3a_gspyLIGO.csv'",
     "output_type": "error",
     "traceback": [
      "\u001b[1;31m---------------------------------------------------------------------------\u001b[0m",
      "\u001b[1;31mFileNotFoundError\u001b[0m                         Traceback (most recent call last)",
      "Cell \u001b[1;32mIn[7], line 10\u001b[0m\n\u001b[0;32m      7\u001b[0m \u001b[38;5;66;03m# Check if the request was successful (status code 200)\u001b[39;00m\n\u001b[0;32m      8\u001b[0m \u001b[38;5;28;01mif\u001b[39;00m response\u001b[38;5;241m.\u001b[39mstatus_code \u001b[38;5;241m==\u001b[39m \u001b[38;5;241m200\u001b[39m:\n\u001b[0;32m      9\u001b[0m     \u001b[38;5;66;03m# Write the content of the response to a local CSV file\u001b[39;00m\n\u001b[1;32m---> 10\u001b[0m     \u001b[38;5;28;01mwith\u001b[39;00m \u001b[38;5;28mopen\u001b[39m(file_to_store, \u001b[38;5;124m\"\u001b[39m\u001b[38;5;124mwb\u001b[39m\u001b[38;5;124m\"\u001b[39m) \u001b[38;5;28;01mas\u001b[39;00m file:\n\u001b[0;32m     11\u001b[0m         file\u001b[38;5;241m.\u001b[39mwrite(response\u001b[38;5;241m.\u001b[39mcontent)\n\u001b[0;32m     13\u001b[0m     glitches \u001b[38;5;241m=\u001b[39m pd\u001b[38;5;241m.\u001b[39mread_csv(file_to_store) \u001b[38;5;66;03m# if succesful we load it\u001b[39;00m\n",
      "File \u001b[1;32m~\\anaconda3\\Lib\\site-packages\\IPython\\core\\interactiveshell.py:310\u001b[0m, in \u001b[0;36m_modified_open\u001b[1;34m(file, *args, **kwargs)\u001b[0m\n\u001b[0;32m    303\u001b[0m \u001b[38;5;28;01mif\u001b[39;00m file \u001b[38;5;129;01min\u001b[39;00m {\u001b[38;5;241m0\u001b[39m, \u001b[38;5;241m1\u001b[39m, \u001b[38;5;241m2\u001b[39m}:\n\u001b[0;32m    304\u001b[0m     \u001b[38;5;28;01mraise\u001b[39;00m \u001b[38;5;167;01mValueError\u001b[39;00m(\n\u001b[0;32m    305\u001b[0m         \u001b[38;5;124mf\u001b[39m\u001b[38;5;124m\"\u001b[39m\u001b[38;5;124mIPython won\u001b[39m\u001b[38;5;124m'\u001b[39m\u001b[38;5;124mt let you open fd=\u001b[39m\u001b[38;5;132;01m{\u001b[39;00mfile\u001b[38;5;132;01m}\u001b[39;00m\u001b[38;5;124m by default \u001b[39m\u001b[38;5;124m\"\u001b[39m\n\u001b[0;32m    306\u001b[0m         \u001b[38;5;124m\"\u001b[39m\u001b[38;5;124mas it is likely to crash IPython. If you know what you are doing, \u001b[39m\u001b[38;5;124m\"\u001b[39m\n\u001b[0;32m    307\u001b[0m         \u001b[38;5;124m\"\u001b[39m\u001b[38;5;124myou can use builtins\u001b[39m\u001b[38;5;124m'\u001b[39m\u001b[38;5;124m open.\u001b[39m\u001b[38;5;124m\"\u001b[39m\n\u001b[0;32m    308\u001b[0m     )\n\u001b[1;32m--> 310\u001b[0m \u001b[38;5;28;01mreturn\u001b[39;00m io_open(file, \u001b[38;5;241m*\u001b[39margs, \u001b[38;5;241m*\u001b[39m\u001b[38;5;241m*\u001b[39mkwargs)\n",
      "\u001b[1;31mFileNotFoundError\u001b[0m: [Errno 2] No such file or directory: './websites data/H1_O3a_gspyLIGO.csv'"
     ]
    }
   ],
   "source": [
    "# URL of the CSV file\n",
    "url = \"https://zenodo.org/records/5649212/files/H1_O3a.csv?download=1\"\n",
    "file_to_store = './websites data/H1_O3a_gspyLIGO.csv' # Fix this to your desired path and name\n",
    "# Send a GET request to the URL\n",
    "response = requests.get(url)\n",
    "\n",
    "# Check if the request was successful (status code 200)\n",
    "if response.status_code == 200:\n",
    "    # Write the content of the response to a local CSV file\n",
    "    with open(file_to_store, \"wb\") as file:\n",
    "        file.write(response.content)\n",
    "    \n",
    "    glitches = pd.read_csv(file_to_store) # if succesful we load it\n",
    "    print(\"File downloaded successfully.\")\n",
    "else:\n",
    "    print(f\"Failed to download the file. Status code: {response.status_code}\")"
   ]
  },
  {
   "cell_type": "code",
   "execution_count": null,
   "id": "a5963bdc-7273-4d1d-9c6e-11d6dfa8f28e",
   "metadata": {},
   "outputs": [],
   "source": [
    "glitches.head()"
   ]
  },
  {
   "cell_type": "code",
   "execution_count": null,
   "id": "449459f8-f008-4383-ab79-7dec3a35ec62",
   "metadata": {},
   "outputs": [],
   "source": [
    "j = 17 # second glitch\n",
    "\n",
    "# 2 Low_Frequency_Burst     17 Koi_Fish\n",
    "# 19 Extremely_Loud         23 Tomte\n",
    "# 25 No_Glitch              29 Blip\n",
    "# 35 Low_Frequency_Lines\n",
    "\n",
    "event_time = glitches.iloc[j]['peak_time'] + 10**(-9)*glitches.iloc[j]['peak_time_ns']\n",
    "start = event_time - 20 # we load 20s before and after to avoid border effects\n",
    "end = event_time + 20"
   ]
  },
  {
   "cell_type": "code",
   "execution_count": null,
   "id": "aad974aa-21b4-4986-9a37-8c84e54ace1b",
   "metadata": {},
   "outputs": [],
   "source": [
    "ifo = glitches.iloc[0]['ifo'] # need to fetch data \n",
    "channel_name = f'{ifo}:GDS-CALIB_STRAIN' # to use later\n",
    "# Now we call the data with gpwy\n",
    "glitch_series = TimeSeries.fetch_open_data(ifo, start, end)"
   ]
  },
  {
   "cell_type": "code",
   "execution_count": null,
   "id": "0f6e905f-1f0b-41d2-9296-36eadf7fe988",
   "metadata": {},
   "outputs": [],
   "source": [
    "config = utils.GravitySpyConfigFile()\n",
    "plot_time_ranges = config.plot_time_ranges\n",
    "plot_normalized_energy_range = config.plot_normalized_energy_range"
   ]
  },
  {
   "cell_type": "code",
   "execution_count": null,
   "id": "e86d4c95-d3ef-4fac-b35c-a14699d454f4",
   "metadata": {},
   "outputs": [],
   "source": [
    "glitches.iloc[j]"
   ]
  },
  {
   "cell_type": "code",
   "execution_count": null,
   "id": "ef50d6e9-b15c-4b47-b0d2-330d3d92304a",
   "metadata": {
    "scrolled": true
   },
   "outputs": [],
   "source": [
    "specsgrams, q_value = utils.make_q_scans(event_time=event_time,\n",
    "                                         timeseries=glitch_series,\n",
    "                                         config=config,\n",
    "                                         channel_name=channel_name)\n",
    "\n",
    "ind_fig_all, super_fig = plot_qtransform(specsgrams,\n",
    "                                         plot_normalized_energy_range,\n",
    "                                         plot_time_ranges,\n",
    "                                         ifo,\n",
    "                                         event_time)\n",
    "super_fig # this combines the 4 different time resolutions of Gravity Spy"
   ]
  },
  {
   "cell_type": "code",
   "execution_count": null,
   "id": "05b900c7-f70a-4f50-9ac7-3654db93e1a5",
   "metadata": {},
   "outputs": [],
   "source": []
  },
  {
   "cell_type": "code",
   "execution_count": null,
   "id": "656e2c69-b915-4a4a-9aac-b08d22a6d549",
   "metadata": {},
   "outputs": [],
   "source": []
  }
 ],
 "metadata": {
  "kernelspec": {
   "display_name": "Python 3 (ipykernel)",
   "language": "python",
   "name": "python3"
  },
  "language_info": {
   "codemirror_mode": {
    "name": "ipython",
    "version": 3
   },
   "file_extension": ".py",
   "mimetype": "text/x-python",
   "name": "python",
   "nbconvert_exporter": "python",
   "pygments_lexer": "ipython3",
   "version": "3.11.7"
  }
 },
 "nbformat": 4,
 "nbformat_minor": 5
}
