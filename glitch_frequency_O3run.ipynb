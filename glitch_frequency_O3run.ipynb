{
 "cells": [
  {
   "cell_type": "markdown",
   "metadata": {
    "id": "tIDVAmH70dyc"
   },
   "source": [
    "# Studies about gravitational waves, glitches on O3 run data - We need be able to obtain data from LIGO, HANFORD and VIRGO interferometers, manipulate this data and plot the results from O3 run."
   ]
  },
  {
   "cell_type": "code",
   "execution_count": 2,
   "metadata": {
    "id": "uY5yO-7PWMik"
   },
   "outputs": [],
   "source": [
    "import pandas as pd\n",
    "import matplotlib.pyplot as plt\n",
    "import seaborn as sns\n",
    "import warnings\n",
    "import numpy as np\n",
    "import datetime\n",
    "import matplotlib.dates as mdates\n",
    "\n",
    "warnings.simplefilter(action='ignore', category=pd.errors.SettingWithCopyWarning)\n",
    "\n",
    "from astropy.time import Time\n",
    "# from gwosc.datasets import event_gps\n",
    "# from gwpy.timeseries import TimeSeries\n",
    "\n",
    "import frequency_functions as ff"
   ]
  },
  {
   "cell_type": "markdown",
   "metadata": {
    "id": "n4Vnwys71awi"
   },
   "source": [
    "## We can search for data in three ways: i) ifo: **{H1, L1, V1} from LigoDV** website or ii) ifo: **{H1, L1} from Zenodo** website and iii) directly using libraries and functions in python."
   ]
  },
  {
   "cell_type": "markdown",
   "metadata": {
    "id": "g_xkkas9G_8K"
   },
   "source": [
    "## Import and clean the first and second one as follow. Put them with the same column name \"label\" and filter the \"confidence\" values to above 0.9"
   ]
  },
  {
   "cell_type": "markdown",
   "metadata": {
    "id": "j6SkJ5pfcmOk"
   },
   "source": [
    "First we'll import the dataFrames from LIGO website (https://ldvw.ligo.caltech.edu/ldvw/gspySearch) and filter some duplicate data from them. Let's leave Hanford aside for now"
   ]
  },
  {
   "cell_type": "code",
   "execution_count": 6,
   "metadata": {
    "id": "Hnrgma3HHFT4"
   },
   "outputs": [
    {
     "ename": "FileNotFoundError",
     "evalue": "[Errno 2] No such file or directory: 'O3run data/L1_O3a_gspyLIGO.csv'",
     "output_type": "error",
     "traceback": [
      "\u001b[1;31m---------------------------------------------------------------------------\u001b[0m",
      "\u001b[1;31mFileNotFoundError\u001b[0m                         Traceback (most recent call last)",
      "Cell \u001b[1;32mIn[6], line 1\u001b[0m\n\u001b[1;32m----> 1\u001b[0m dfligo_L1_O3a \u001b[38;5;241m=\u001b[39m pd\u001b[38;5;241m.\u001b[39mread_csv(\u001b[38;5;124m\"\u001b[39m\u001b[38;5;124mO3run data/L1_O3a_gspyLIGO.csv\u001b[39m\u001b[38;5;124m\"\u001b[39m)\u001b[38;5;241m.\u001b[39mdrop_duplicates()\n\u001b[0;32m      2\u001b[0m dfligo_V1_O3a \u001b[38;5;241m=\u001b[39m pd\u001b[38;5;241m.\u001b[39mread_csv(\u001b[38;5;124m\"\u001b[39m\u001b[38;5;124mO3run data/V1_O3a_gspyLIGO.csv\u001b[39m\u001b[38;5;124m\"\u001b[39m)\u001b[38;5;241m.\u001b[39mdrop_duplicates()\n\u001b[0;32m      3\u001b[0m \u001b[38;5;66;03m# dfligo_H1_O3a = pd.read_csv(\"O3run data/H1_O3a_gspyLIGO.csv\").drop_duplicates()\u001b[39;00m\n",
      "File \u001b[1;32m~\\anaconda3\\Lib\\site-packages\\pandas\\util\\_decorators.py:211\u001b[0m, in \u001b[0;36mdeprecate_kwarg.<locals>._deprecate_kwarg.<locals>.wrapper\u001b[1;34m(*args, **kwargs)\u001b[0m\n\u001b[0;32m    209\u001b[0m     \u001b[38;5;28;01melse\u001b[39;00m:\n\u001b[0;32m    210\u001b[0m         kwargs[new_arg_name] \u001b[38;5;241m=\u001b[39m new_arg_value\n\u001b[1;32m--> 211\u001b[0m \u001b[38;5;28;01mreturn\u001b[39;00m func(\u001b[38;5;241m*\u001b[39margs, \u001b[38;5;241m*\u001b[39m\u001b[38;5;241m*\u001b[39mkwargs)\n",
      "File \u001b[1;32m~\\anaconda3\\Lib\\site-packages\\pandas\\util\\_decorators.py:331\u001b[0m, in \u001b[0;36mdeprecate_nonkeyword_arguments.<locals>.decorate.<locals>.wrapper\u001b[1;34m(*args, **kwargs)\u001b[0m\n\u001b[0;32m    325\u001b[0m \u001b[38;5;28;01mif\u001b[39;00m \u001b[38;5;28mlen\u001b[39m(args) \u001b[38;5;241m>\u001b[39m num_allow_args:\n\u001b[0;32m    326\u001b[0m     warnings\u001b[38;5;241m.\u001b[39mwarn(\n\u001b[0;32m    327\u001b[0m         msg\u001b[38;5;241m.\u001b[39mformat(arguments\u001b[38;5;241m=\u001b[39m_format_argument_list(allow_args)),\n\u001b[0;32m    328\u001b[0m         \u001b[38;5;167;01mFutureWarning\u001b[39;00m,\n\u001b[0;32m    329\u001b[0m         stacklevel\u001b[38;5;241m=\u001b[39mfind_stack_level(),\n\u001b[0;32m    330\u001b[0m     )\n\u001b[1;32m--> 331\u001b[0m \u001b[38;5;28;01mreturn\u001b[39;00m func(\u001b[38;5;241m*\u001b[39margs, \u001b[38;5;241m*\u001b[39m\u001b[38;5;241m*\u001b[39mkwargs)\n",
      "File \u001b[1;32m~\\anaconda3\\Lib\\site-packages\\pandas\\io\\parsers\\readers.py:950\u001b[0m, in \u001b[0;36mread_csv\u001b[1;34m(filepath_or_buffer, sep, delimiter, header, names, index_col, usecols, squeeze, prefix, mangle_dupe_cols, dtype, engine, converters, true_values, false_values, skipinitialspace, skiprows, skipfooter, nrows, na_values, keep_default_na, na_filter, verbose, skip_blank_lines, parse_dates, infer_datetime_format, keep_date_col, date_parser, dayfirst, cache_dates, iterator, chunksize, compression, thousands, decimal, lineterminator, quotechar, quoting, doublequote, escapechar, comment, encoding, encoding_errors, dialect, error_bad_lines, warn_bad_lines, on_bad_lines, delim_whitespace, low_memory, memory_map, float_precision, storage_options)\u001b[0m\n\u001b[0;32m    935\u001b[0m kwds_defaults \u001b[38;5;241m=\u001b[39m _refine_defaults_read(\n\u001b[0;32m    936\u001b[0m     dialect,\n\u001b[0;32m    937\u001b[0m     delimiter,\n\u001b[1;32m   (...)\u001b[0m\n\u001b[0;32m    946\u001b[0m     defaults\u001b[38;5;241m=\u001b[39m{\u001b[38;5;124m\"\u001b[39m\u001b[38;5;124mdelimiter\u001b[39m\u001b[38;5;124m\"\u001b[39m: \u001b[38;5;124m\"\u001b[39m\u001b[38;5;124m,\u001b[39m\u001b[38;5;124m\"\u001b[39m},\n\u001b[0;32m    947\u001b[0m )\n\u001b[0;32m    948\u001b[0m kwds\u001b[38;5;241m.\u001b[39mupdate(kwds_defaults)\n\u001b[1;32m--> 950\u001b[0m \u001b[38;5;28;01mreturn\u001b[39;00m _read(filepath_or_buffer, kwds)\n",
      "File \u001b[1;32m~\\anaconda3\\Lib\\site-packages\\pandas\\io\\parsers\\readers.py:605\u001b[0m, in \u001b[0;36m_read\u001b[1;34m(filepath_or_buffer, kwds)\u001b[0m\n\u001b[0;32m    602\u001b[0m _validate_names(kwds\u001b[38;5;241m.\u001b[39mget(\u001b[38;5;124m\"\u001b[39m\u001b[38;5;124mnames\u001b[39m\u001b[38;5;124m\"\u001b[39m, \u001b[38;5;28;01mNone\u001b[39;00m))\n\u001b[0;32m    604\u001b[0m \u001b[38;5;66;03m# Create the parser.\u001b[39;00m\n\u001b[1;32m--> 605\u001b[0m parser \u001b[38;5;241m=\u001b[39m TextFileReader(filepath_or_buffer, \u001b[38;5;241m*\u001b[39m\u001b[38;5;241m*\u001b[39mkwds)\n\u001b[0;32m    607\u001b[0m \u001b[38;5;28;01mif\u001b[39;00m chunksize \u001b[38;5;129;01mor\u001b[39;00m iterator:\n\u001b[0;32m    608\u001b[0m     \u001b[38;5;28;01mreturn\u001b[39;00m parser\n",
      "File \u001b[1;32m~\\anaconda3\\Lib\\site-packages\\pandas\\io\\parsers\\readers.py:1442\u001b[0m, in \u001b[0;36mTextFileReader.__init__\u001b[1;34m(self, f, engine, **kwds)\u001b[0m\n\u001b[0;32m   1439\u001b[0m     \u001b[38;5;28mself\u001b[39m\u001b[38;5;241m.\u001b[39moptions[\u001b[38;5;124m\"\u001b[39m\u001b[38;5;124mhas_index_names\u001b[39m\u001b[38;5;124m\"\u001b[39m] \u001b[38;5;241m=\u001b[39m kwds[\u001b[38;5;124m\"\u001b[39m\u001b[38;5;124mhas_index_names\u001b[39m\u001b[38;5;124m\"\u001b[39m]\n\u001b[0;32m   1441\u001b[0m \u001b[38;5;28mself\u001b[39m\u001b[38;5;241m.\u001b[39mhandles: IOHandles \u001b[38;5;241m|\u001b[39m \u001b[38;5;28;01mNone\u001b[39;00m \u001b[38;5;241m=\u001b[39m \u001b[38;5;28;01mNone\u001b[39;00m\n\u001b[1;32m-> 1442\u001b[0m \u001b[38;5;28mself\u001b[39m\u001b[38;5;241m.\u001b[39m_engine \u001b[38;5;241m=\u001b[39m \u001b[38;5;28mself\u001b[39m\u001b[38;5;241m.\u001b[39m_make_engine(f, \u001b[38;5;28mself\u001b[39m\u001b[38;5;241m.\u001b[39mengine)\n",
      "File \u001b[1;32m~\\anaconda3\\Lib\\site-packages\\pandas\\io\\parsers\\readers.py:1735\u001b[0m, in \u001b[0;36mTextFileReader._make_engine\u001b[1;34m(self, f, engine)\u001b[0m\n\u001b[0;32m   1733\u001b[0m     \u001b[38;5;28;01mif\u001b[39;00m \u001b[38;5;124m\"\u001b[39m\u001b[38;5;124mb\u001b[39m\u001b[38;5;124m\"\u001b[39m \u001b[38;5;129;01mnot\u001b[39;00m \u001b[38;5;129;01min\u001b[39;00m mode:\n\u001b[0;32m   1734\u001b[0m         mode \u001b[38;5;241m+\u001b[39m\u001b[38;5;241m=\u001b[39m \u001b[38;5;124m\"\u001b[39m\u001b[38;5;124mb\u001b[39m\u001b[38;5;124m\"\u001b[39m\n\u001b[1;32m-> 1735\u001b[0m \u001b[38;5;28mself\u001b[39m\u001b[38;5;241m.\u001b[39mhandles \u001b[38;5;241m=\u001b[39m get_handle(\n\u001b[0;32m   1736\u001b[0m     f,\n\u001b[0;32m   1737\u001b[0m     mode,\n\u001b[0;32m   1738\u001b[0m     encoding\u001b[38;5;241m=\u001b[39m\u001b[38;5;28mself\u001b[39m\u001b[38;5;241m.\u001b[39moptions\u001b[38;5;241m.\u001b[39mget(\u001b[38;5;124m\"\u001b[39m\u001b[38;5;124mencoding\u001b[39m\u001b[38;5;124m\"\u001b[39m, \u001b[38;5;28;01mNone\u001b[39;00m),\n\u001b[0;32m   1739\u001b[0m     compression\u001b[38;5;241m=\u001b[39m\u001b[38;5;28mself\u001b[39m\u001b[38;5;241m.\u001b[39moptions\u001b[38;5;241m.\u001b[39mget(\u001b[38;5;124m\"\u001b[39m\u001b[38;5;124mcompression\u001b[39m\u001b[38;5;124m\"\u001b[39m, \u001b[38;5;28;01mNone\u001b[39;00m),\n\u001b[0;32m   1740\u001b[0m     memory_map\u001b[38;5;241m=\u001b[39m\u001b[38;5;28mself\u001b[39m\u001b[38;5;241m.\u001b[39moptions\u001b[38;5;241m.\u001b[39mget(\u001b[38;5;124m\"\u001b[39m\u001b[38;5;124mmemory_map\u001b[39m\u001b[38;5;124m\"\u001b[39m, \u001b[38;5;28;01mFalse\u001b[39;00m),\n\u001b[0;32m   1741\u001b[0m     is_text\u001b[38;5;241m=\u001b[39mis_text,\n\u001b[0;32m   1742\u001b[0m     errors\u001b[38;5;241m=\u001b[39m\u001b[38;5;28mself\u001b[39m\u001b[38;5;241m.\u001b[39moptions\u001b[38;5;241m.\u001b[39mget(\u001b[38;5;124m\"\u001b[39m\u001b[38;5;124mencoding_errors\u001b[39m\u001b[38;5;124m\"\u001b[39m, \u001b[38;5;124m\"\u001b[39m\u001b[38;5;124mstrict\u001b[39m\u001b[38;5;124m\"\u001b[39m),\n\u001b[0;32m   1743\u001b[0m     storage_options\u001b[38;5;241m=\u001b[39m\u001b[38;5;28mself\u001b[39m\u001b[38;5;241m.\u001b[39moptions\u001b[38;5;241m.\u001b[39mget(\u001b[38;5;124m\"\u001b[39m\u001b[38;5;124mstorage_options\u001b[39m\u001b[38;5;124m\"\u001b[39m, \u001b[38;5;28;01mNone\u001b[39;00m),\n\u001b[0;32m   1744\u001b[0m )\n\u001b[0;32m   1745\u001b[0m \u001b[38;5;28;01massert\u001b[39;00m \u001b[38;5;28mself\u001b[39m\u001b[38;5;241m.\u001b[39mhandles \u001b[38;5;129;01mis\u001b[39;00m \u001b[38;5;129;01mnot\u001b[39;00m \u001b[38;5;28;01mNone\u001b[39;00m\n\u001b[0;32m   1746\u001b[0m f \u001b[38;5;241m=\u001b[39m \u001b[38;5;28mself\u001b[39m\u001b[38;5;241m.\u001b[39mhandles\u001b[38;5;241m.\u001b[39mhandle\n",
      "File \u001b[1;32m~\\anaconda3\\Lib\\site-packages\\pandas\\io\\common.py:856\u001b[0m, in \u001b[0;36mget_handle\u001b[1;34m(path_or_buf, mode, encoding, compression, memory_map, is_text, errors, storage_options)\u001b[0m\n\u001b[0;32m    851\u001b[0m \u001b[38;5;28;01melif\u001b[39;00m \u001b[38;5;28misinstance\u001b[39m(handle, \u001b[38;5;28mstr\u001b[39m):\n\u001b[0;32m    852\u001b[0m     \u001b[38;5;66;03m# Check whether the filename is to be opened in binary mode.\u001b[39;00m\n\u001b[0;32m    853\u001b[0m     \u001b[38;5;66;03m# Binary mode does not support 'encoding' and 'newline'.\u001b[39;00m\n\u001b[0;32m    854\u001b[0m     \u001b[38;5;28;01mif\u001b[39;00m ioargs\u001b[38;5;241m.\u001b[39mencoding \u001b[38;5;129;01mand\u001b[39;00m \u001b[38;5;124m\"\u001b[39m\u001b[38;5;124mb\u001b[39m\u001b[38;5;124m\"\u001b[39m \u001b[38;5;129;01mnot\u001b[39;00m \u001b[38;5;129;01min\u001b[39;00m ioargs\u001b[38;5;241m.\u001b[39mmode:\n\u001b[0;32m    855\u001b[0m         \u001b[38;5;66;03m# Encoding\u001b[39;00m\n\u001b[1;32m--> 856\u001b[0m         handle \u001b[38;5;241m=\u001b[39m \u001b[38;5;28mopen\u001b[39m(\n\u001b[0;32m    857\u001b[0m             handle,\n\u001b[0;32m    858\u001b[0m             ioargs\u001b[38;5;241m.\u001b[39mmode,\n\u001b[0;32m    859\u001b[0m             encoding\u001b[38;5;241m=\u001b[39mioargs\u001b[38;5;241m.\u001b[39mencoding,\n\u001b[0;32m    860\u001b[0m             errors\u001b[38;5;241m=\u001b[39merrors,\n\u001b[0;32m    861\u001b[0m             newline\u001b[38;5;241m=\u001b[39m\u001b[38;5;124m\"\u001b[39m\u001b[38;5;124m\"\u001b[39m,\n\u001b[0;32m    862\u001b[0m         )\n\u001b[0;32m    863\u001b[0m     \u001b[38;5;28;01melse\u001b[39;00m:\n\u001b[0;32m    864\u001b[0m         \u001b[38;5;66;03m# Binary mode\u001b[39;00m\n\u001b[0;32m    865\u001b[0m         handle \u001b[38;5;241m=\u001b[39m \u001b[38;5;28mopen\u001b[39m(handle, ioargs\u001b[38;5;241m.\u001b[39mmode)\n",
      "\u001b[1;31mFileNotFoundError\u001b[0m: [Errno 2] No such file or directory: 'O3run data/L1_O3a_gspyLIGO.csv'"
     ]
    }
   ],
   "source": [
    "dfligo_L1_O3a = pd.read_csv(\"O3run data/L1_O3a_gspyLIGO.csv\").drop_duplicates()\n",
    "dfligo_V1_O3a = pd.read_csv(\"O3run data/V1_O3a_gspyLIGO.csv\").drop_duplicates()\n",
    "# dfligo_H1_O3a = pd.read_csv(\"O3run data/H1_O3a_gspyLIGO.csv\").drop_duplicates()\n",
    "\n",
    "dfligo_L1_O3b = pd.read_csv(\"O3run data/L1_O3b_gspyLIGO.csv\").drop_duplicates()\n",
    "dfligo_V1_O3b = pd.read_csv(\"O3run data/V1_O3b_gspyLIGO.csv\").drop_duplicates()\n",
    "# dfligo_H1_O3b = pd.read_csv(\"O3run data/H1_O3b_gspyLIGO.csv\").drop_duplicates()"
   ]
  },
  {
   "cell_type": "markdown",
   "metadata": {
    "id": "A2aA2pjScyE9"
   },
   "source": [
    "Now for the ZENODO website (https://zenodo.org/records/5649212) data"
   ]
  },
  {
   "cell_type": "code",
   "execution_count": 24,
   "metadata": {
    "id": "ym6g2z_YXRhr"
   },
   "outputs": [
    {
     "ename": "FileNotFoundError",
     "evalue": "[Errno 2] No such file or directory: 'O3run data/L1_O3a_Zenodo.csv'",
     "output_type": "error",
     "traceback": [
      "\u001b[1;31m---------------------------------------------------------------------------\u001b[0m",
      "\u001b[1;31mFileNotFoundError\u001b[0m                         Traceback (most recent call last)",
      "Cell \u001b[1;32mIn[24], line 1\u001b[0m\n\u001b[1;32m----> 1\u001b[0m dfzenodo_L1_O3a \u001b[38;5;241m=\u001b[39m pd\u001b[38;5;241m.\u001b[39mread_csv(\u001b[38;5;124m\"\u001b[39m\u001b[38;5;124mO3run data/L1_O3a_Zenodo.csv\u001b[39m\u001b[38;5;124m\"\u001b[39m)\u001b[38;5;241m.\u001b[39mdrop_duplicates()\n\u001b[0;32m      2\u001b[0m \u001b[38;5;66;03m# dfzenodo_H1_O3a = pd.read_csv(\"O3run data/H1_O3a_Zenodo.csv.csv\").drop_duplicates()\u001b[39;00m\n\u001b[0;32m      4\u001b[0m dfzenodo_L1_O3b \u001b[38;5;241m=\u001b[39m pd\u001b[38;5;241m.\u001b[39mread_csv(\u001b[38;5;124m\"\u001b[39m\u001b[38;5;124mO3run data/L1_O3b_Zenodo.csv\u001b[39m\u001b[38;5;124m\"\u001b[39m)\u001b[38;5;241m.\u001b[39mdrop_duplicates()\n",
      "File \u001b[1;32m~\\anaconda3\\Lib\\site-packages\\pandas\\util\\_decorators.py:211\u001b[0m, in \u001b[0;36mdeprecate_kwarg.<locals>._deprecate_kwarg.<locals>.wrapper\u001b[1;34m(*args, **kwargs)\u001b[0m\n\u001b[0;32m    209\u001b[0m     \u001b[38;5;28;01melse\u001b[39;00m:\n\u001b[0;32m    210\u001b[0m         kwargs[new_arg_name] \u001b[38;5;241m=\u001b[39m new_arg_value\n\u001b[1;32m--> 211\u001b[0m \u001b[38;5;28;01mreturn\u001b[39;00m func(\u001b[38;5;241m*\u001b[39margs, \u001b[38;5;241m*\u001b[39m\u001b[38;5;241m*\u001b[39mkwargs)\n",
      "File \u001b[1;32m~\\anaconda3\\Lib\\site-packages\\pandas\\util\\_decorators.py:331\u001b[0m, in \u001b[0;36mdeprecate_nonkeyword_arguments.<locals>.decorate.<locals>.wrapper\u001b[1;34m(*args, **kwargs)\u001b[0m\n\u001b[0;32m    325\u001b[0m \u001b[38;5;28;01mif\u001b[39;00m \u001b[38;5;28mlen\u001b[39m(args) \u001b[38;5;241m>\u001b[39m num_allow_args:\n\u001b[0;32m    326\u001b[0m     warnings\u001b[38;5;241m.\u001b[39mwarn(\n\u001b[0;32m    327\u001b[0m         msg\u001b[38;5;241m.\u001b[39mformat(arguments\u001b[38;5;241m=\u001b[39m_format_argument_list(allow_args)),\n\u001b[0;32m    328\u001b[0m         \u001b[38;5;167;01mFutureWarning\u001b[39;00m,\n\u001b[0;32m    329\u001b[0m         stacklevel\u001b[38;5;241m=\u001b[39mfind_stack_level(),\n\u001b[0;32m    330\u001b[0m     )\n\u001b[1;32m--> 331\u001b[0m \u001b[38;5;28;01mreturn\u001b[39;00m func(\u001b[38;5;241m*\u001b[39margs, \u001b[38;5;241m*\u001b[39m\u001b[38;5;241m*\u001b[39mkwargs)\n",
      "File \u001b[1;32m~\\anaconda3\\Lib\\site-packages\\pandas\\io\\parsers\\readers.py:950\u001b[0m, in \u001b[0;36mread_csv\u001b[1;34m(filepath_or_buffer, sep, delimiter, header, names, index_col, usecols, squeeze, prefix, mangle_dupe_cols, dtype, engine, converters, true_values, false_values, skipinitialspace, skiprows, skipfooter, nrows, na_values, keep_default_na, na_filter, verbose, skip_blank_lines, parse_dates, infer_datetime_format, keep_date_col, date_parser, dayfirst, cache_dates, iterator, chunksize, compression, thousands, decimal, lineterminator, quotechar, quoting, doublequote, escapechar, comment, encoding, encoding_errors, dialect, error_bad_lines, warn_bad_lines, on_bad_lines, delim_whitespace, low_memory, memory_map, float_precision, storage_options)\u001b[0m\n\u001b[0;32m    935\u001b[0m kwds_defaults \u001b[38;5;241m=\u001b[39m _refine_defaults_read(\n\u001b[0;32m    936\u001b[0m     dialect,\n\u001b[0;32m    937\u001b[0m     delimiter,\n\u001b[1;32m   (...)\u001b[0m\n\u001b[0;32m    946\u001b[0m     defaults\u001b[38;5;241m=\u001b[39m{\u001b[38;5;124m\"\u001b[39m\u001b[38;5;124mdelimiter\u001b[39m\u001b[38;5;124m\"\u001b[39m: \u001b[38;5;124m\"\u001b[39m\u001b[38;5;124m,\u001b[39m\u001b[38;5;124m\"\u001b[39m},\n\u001b[0;32m    947\u001b[0m )\n\u001b[0;32m    948\u001b[0m kwds\u001b[38;5;241m.\u001b[39mupdate(kwds_defaults)\n\u001b[1;32m--> 950\u001b[0m \u001b[38;5;28;01mreturn\u001b[39;00m _read(filepath_or_buffer, kwds)\n",
      "File \u001b[1;32m~\\anaconda3\\Lib\\site-packages\\pandas\\io\\parsers\\readers.py:605\u001b[0m, in \u001b[0;36m_read\u001b[1;34m(filepath_or_buffer, kwds)\u001b[0m\n\u001b[0;32m    602\u001b[0m _validate_names(kwds\u001b[38;5;241m.\u001b[39mget(\u001b[38;5;124m\"\u001b[39m\u001b[38;5;124mnames\u001b[39m\u001b[38;5;124m\"\u001b[39m, \u001b[38;5;28;01mNone\u001b[39;00m))\n\u001b[0;32m    604\u001b[0m \u001b[38;5;66;03m# Create the parser.\u001b[39;00m\n\u001b[1;32m--> 605\u001b[0m parser \u001b[38;5;241m=\u001b[39m TextFileReader(filepath_or_buffer, \u001b[38;5;241m*\u001b[39m\u001b[38;5;241m*\u001b[39mkwds)\n\u001b[0;32m    607\u001b[0m \u001b[38;5;28;01mif\u001b[39;00m chunksize \u001b[38;5;129;01mor\u001b[39;00m iterator:\n\u001b[0;32m    608\u001b[0m     \u001b[38;5;28;01mreturn\u001b[39;00m parser\n",
      "File \u001b[1;32m~\\anaconda3\\Lib\\site-packages\\pandas\\io\\parsers\\readers.py:1442\u001b[0m, in \u001b[0;36mTextFileReader.__init__\u001b[1;34m(self, f, engine, **kwds)\u001b[0m\n\u001b[0;32m   1439\u001b[0m     \u001b[38;5;28mself\u001b[39m\u001b[38;5;241m.\u001b[39moptions[\u001b[38;5;124m\"\u001b[39m\u001b[38;5;124mhas_index_names\u001b[39m\u001b[38;5;124m\"\u001b[39m] \u001b[38;5;241m=\u001b[39m kwds[\u001b[38;5;124m\"\u001b[39m\u001b[38;5;124mhas_index_names\u001b[39m\u001b[38;5;124m\"\u001b[39m]\n\u001b[0;32m   1441\u001b[0m \u001b[38;5;28mself\u001b[39m\u001b[38;5;241m.\u001b[39mhandles: IOHandles \u001b[38;5;241m|\u001b[39m \u001b[38;5;28;01mNone\u001b[39;00m \u001b[38;5;241m=\u001b[39m \u001b[38;5;28;01mNone\u001b[39;00m\n\u001b[1;32m-> 1442\u001b[0m \u001b[38;5;28mself\u001b[39m\u001b[38;5;241m.\u001b[39m_engine \u001b[38;5;241m=\u001b[39m \u001b[38;5;28mself\u001b[39m\u001b[38;5;241m.\u001b[39m_make_engine(f, \u001b[38;5;28mself\u001b[39m\u001b[38;5;241m.\u001b[39mengine)\n",
      "File \u001b[1;32m~\\anaconda3\\Lib\\site-packages\\pandas\\io\\parsers\\readers.py:1735\u001b[0m, in \u001b[0;36mTextFileReader._make_engine\u001b[1;34m(self, f, engine)\u001b[0m\n\u001b[0;32m   1733\u001b[0m     \u001b[38;5;28;01mif\u001b[39;00m \u001b[38;5;124m\"\u001b[39m\u001b[38;5;124mb\u001b[39m\u001b[38;5;124m\"\u001b[39m \u001b[38;5;129;01mnot\u001b[39;00m \u001b[38;5;129;01min\u001b[39;00m mode:\n\u001b[0;32m   1734\u001b[0m         mode \u001b[38;5;241m+\u001b[39m\u001b[38;5;241m=\u001b[39m \u001b[38;5;124m\"\u001b[39m\u001b[38;5;124mb\u001b[39m\u001b[38;5;124m\"\u001b[39m\n\u001b[1;32m-> 1735\u001b[0m \u001b[38;5;28mself\u001b[39m\u001b[38;5;241m.\u001b[39mhandles \u001b[38;5;241m=\u001b[39m get_handle(\n\u001b[0;32m   1736\u001b[0m     f,\n\u001b[0;32m   1737\u001b[0m     mode,\n\u001b[0;32m   1738\u001b[0m     encoding\u001b[38;5;241m=\u001b[39m\u001b[38;5;28mself\u001b[39m\u001b[38;5;241m.\u001b[39moptions\u001b[38;5;241m.\u001b[39mget(\u001b[38;5;124m\"\u001b[39m\u001b[38;5;124mencoding\u001b[39m\u001b[38;5;124m\"\u001b[39m, \u001b[38;5;28;01mNone\u001b[39;00m),\n\u001b[0;32m   1739\u001b[0m     compression\u001b[38;5;241m=\u001b[39m\u001b[38;5;28mself\u001b[39m\u001b[38;5;241m.\u001b[39moptions\u001b[38;5;241m.\u001b[39mget(\u001b[38;5;124m\"\u001b[39m\u001b[38;5;124mcompression\u001b[39m\u001b[38;5;124m\"\u001b[39m, \u001b[38;5;28;01mNone\u001b[39;00m),\n\u001b[0;32m   1740\u001b[0m     memory_map\u001b[38;5;241m=\u001b[39m\u001b[38;5;28mself\u001b[39m\u001b[38;5;241m.\u001b[39moptions\u001b[38;5;241m.\u001b[39mget(\u001b[38;5;124m\"\u001b[39m\u001b[38;5;124mmemory_map\u001b[39m\u001b[38;5;124m\"\u001b[39m, \u001b[38;5;28;01mFalse\u001b[39;00m),\n\u001b[0;32m   1741\u001b[0m     is_text\u001b[38;5;241m=\u001b[39mis_text,\n\u001b[0;32m   1742\u001b[0m     errors\u001b[38;5;241m=\u001b[39m\u001b[38;5;28mself\u001b[39m\u001b[38;5;241m.\u001b[39moptions\u001b[38;5;241m.\u001b[39mget(\u001b[38;5;124m\"\u001b[39m\u001b[38;5;124mencoding_errors\u001b[39m\u001b[38;5;124m\"\u001b[39m, \u001b[38;5;124m\"\u001b[39m\u001b[38;5;124mstrict\u001b[39m\u001b[38;5;124m\"\u001b[39m),\n\u001b[0;32m   1743\u001b[0m     storage_options\u001b[38;5;241m=\u001b[39m\u001b[38;5;28mself\u001b[39m\u001b[38;5;241m.\u001b[39moptions\u001b[38;5;241m.\u001b[39mget(\u001b[38;5;124m\"\u001b[39m\u001b[38;5;124mstorage_options\u001b[39m\u001b[38;5;124m\"\u001b[39m, \u001b[38;5;28;01mNone\u001b[39;00m),\n\u001b[0;32m   1744\u001b[0m )\n\u001b[0;32m   1745\u001b[0m \u001b[38;5;28;01massert\u001b[39;00m \u001b[38;5;28mself\u001b[39m\u001b[38;5;241m.\u001b[39mhandles \u001b[38;5;129;01mis\u001b[39;00m \u001b[38;5;129;01mnot\u001b[39;00m \u001b[38;5;28;01mNone\u001b[39;00m\n\u001b[0;32m   1746\u001b[0m f \u001b[38;5;241m=\u001b[39m \u001b[38;5;28mself\u001b[39m\u001b[38;5;241m.\u001b[39mhandles\u001b[38;5;241m.\u001b[39mhandle\n",
      "File \u001b[1;32m~\\anaconda3\\Lib\\site-packages\\pandas\\io\\common.py:856\u001b[0m, in \u001b[0;36mget_handle\u001b[1;34m(path_or_buf, mode, encoding, compression, memory_map, is_text, errors, storage_options)\u001b[0m\n\u001b[0;32m    851\u001b[0m \u001b[38;5;28;01melif\u001b[39;00m \u001b[38;5;28misinstance\u001b[39m(handle, \u001b[38;5;28mstr\u001b[39m):\n\u001b[0;32m    852\u001b[0m     \u001b[38;5;66;03m# Check whether the filename is to be opened in binary mode.\u001b[39;00m\n\u001b[0;32m    853\u001b[0m     \u001b[38;5;66;03m# Binary mode does not support 'encoding' and 'newline'.\u001b[39;00m\n\u001b[0;32m    854\u001b[0m     \u001b[38;5;28;01mif\u001b[39;00m ioargs\u001b[38;5;241m.\u001b[39mencoding \u001b[38;5;129;01mand\u001b[39;00m \u001b[38;5;124m\"\u001b[39m\u001b[38;5;124mb\u001b[39m\u001b[38;5;124m\"\u001b[39m \u001b[38;5;129;01mnot\u001b[39;00m \u001b[38;5;129;01min\u001b[39;00m ioargs\u001b[38;5;241m.\u001b[39mmode:\n\u001b[0;32m    855\u001b[0m         \u001b[38;5;66;03m# Encoding\u001b[39;00m\n\u001b[1;32m--> 856\u001b[0m         handle \u001b[38;5;241m=\u001b[39m \u001b[38;5;28mopen\u001b[39m(\n\u001b[0;32m    857\u001b[0m             handle,\n\u001b[0;32m    858\u001b[0m             ioargs\u001b[38;5;241m.\u001b[39mmode,\n\u001b[0;32m    859\u001b[0m             encoding\u001b[38;5;241m=\u001b[39mioargs\u001b[38;5;241m.\u001b[39mencoding,\n\u001b[0;32m    860\u001b[0m             errors\u001b[38;5;241m=\u001b[39merrors,\n\u001b[0;32m    861\u001b[0m             newline\u001b[38;5;241m=\u001b[39m\u001b[38;5;124m\"\u001b[39m\u001b[38;5;124m\"\u001b[39m,\n\u001b[0;32m    862\u001b[0m         )\n\u001b[0;32m    863\u001b[0m     \u001b[38;5;28;01melse\u001b[39;00m:\n\u001b[0;32m    864\u001b[0m         \u001b[38;5;66;03m# Binary mode\u001b[39;00m\n\u001b[0;32m    865\u001b[0m         handle \u001b[38;5;241m=\u001b[39m \u001b[38;5;28mopen\u001b[39m(handle, ioargs\u001b[38;5;241m.\u001b[39mmode)\n",
      "\u001b[1;31mFileNotFoundError\u001b[0m: [Errno 2] No such file or directory: 'O3run data/L1_O3a_Zenodo.csv'"
     ]
    }
   ],
   "source": [
    "dfzenodo_L1_O3a = pd.read_csv(\"O3run data/L1_O3a_Zenodo.csv\").drop_duplicates()\n",
    "# dfzenodo_H1_O3a = pd.read_csv(\"O3run data/H1_O3a_Zenodo.csv.csv\").drop_duplicates()\n",
    "\n",
    "dfzenodo_L1_O3b = pd.read_csv(\"O3run data/L1_O3b_Zenodo.csv\").drop_duplicates()\n",
    "# dfzenodo_H1_O3b = pd.read_csv(\"O3run data/H1_O3b_Zenodo.csv.csv\").drop_duplicates()"
   ]
  },
  {
   "cell_type": "markdown",
   "metadata": {
    "id": "4wwUyspSgZ-c"
   },
   "source": [
    "## Clean our data. Put them with the same column name \"label\" and filter the \"confidence\" values to above 0.9"
   ]
  },
  {
   "cell_type": "markdown",
   "metadata": {
    "id": "lCRBof7tgdgh"
   },
   "source": [
    "Clean our data. Put them with the same column name \"label\" and filter the \"confidence\" values to above 0.9\n",
    "Let we see its columns"
   ]
  },
  {
   "cell_type": "code",
   "execution_count": 26,
   "metadata": {
    "colab": {
     "base_uri": "https://localhost:8080/"
    },
    "id": "N7Lb9vG7gXun",
    "outputId": "5b6f8be8-6981-4ff3-c20a-d5ad9b83604c"
   },
   "outputs": [
    {
     "ename": "NameError",
     "evalue": "name 'dfligo_L1_O3a' is not defined",
     "output_type": "error",
     "traceback": [
      "\u001b[1;31m---------------------------------------------------------------------------\u001b[0m",
      "\u001b[1;31mNameError\u001b[0m                                 Traceback (most recent call last)",
      "Cell \u001b[1;32mIn[26], line 1\u001b[0m\n\u001b[1;32m----> 1\u001b[0m \u001b[38;5;28mprint\u001b[39m(dfligo_L1_O3a\u001b[38;5;241m.\u001b[39mcolumns)\n",
      "\u001b[1;31mNameError\u001b[0m: name 'dfligo_L1_O3a' is not defined"
     ]
    }
   ],
   "source": [
    "print(dfligo_L1_O3a.columns)"
   ]
  },
  {
   "cell_type": "code",
   "execution_count": 28,
   "metadata": {
    "colab": {
     "base_uri": "https://localhost:8080/"
    },
    "id": "RLyGlVDsgs7S",
    "outputId": "7ce1b0b5-d6b9-4a78-b929-5f1fb298ef2a"
   },
   "outputs": [
    {
     "ename": "NameError",
     "evalue": "name 'dfzenodo_L1_O3a' is not defined",
     "output_type": "error",
     "traceback": [
      "\u001b[1;31m---------------------------------------------------------------------------\u001b[0m",
      "\u001b[1;31mNameError\u001b[0m                                 Traceback (most recent call last)",
      "Cell \u001b[1;32mIn[28], line 1\u001b[0m\n\u001b[1;32m----> 1\u001b[0m \u001b[38;5;28mprint\u001b[39m(dfzenodo_L1_O3a\u001b[38;5;241m.\u001b[39mcolumns)\n",
      "\u001b[1;31mNameError\u001b[0m: name 'dfzenodo_L1_O3a' is not defined"
     ]
    }
   ],
   "source": [
    "print(dfzenodo_L1_O3a.columns)"
   ]
  },
  {
   "cell_type": "markdown",
   "metadata": {
    "id": "-gLnGQBVgxAx"
   },
   "source": [
    " We need modify the column from \"ml_label\" to \"label\" for zenodo dataFrame, because ligo dataFrame use \"label\""
   ]
  },
  {
   "cell_type": "code",
   "execution_count": 30,
   "metadata": {
    "id": "m6ooWWSHgz2H"
   },
   "outputs": [
    {
     "ename": "NameError",
     "evalue": "name 'dfzenodo_L1_O3a' is not defined",
     "output_type": "error",
     "traceback": [
      "\u001b[1;31m---------------------------------------------------------------------------\u001b[0m",
      "\u001b[1;31mNameError\u001b[0m                                 Traceback (most recent call last)",
      "Cell \u001b[1;32mIn[30], line 1\u001b[0m\n\u001b[1;32m----> 1\u001b[0m dfzenodo_L1_O3a\u001b[38;5;241m.\u001b[39mrename(columns\u001b[38;5;241m=\u001b[39m{\u001b[38;5;124m'\u001b[39m\u001b[38;5;124mml_label\u001b[39m\u001b[38;5;124m'\u001b[39m: \u001b[38;5;124m'\u001b[39m\u001b[38;5;124mlabel\u001b[39m\u001b[38;5;124m'\u001b[39m}, inplace\u001b[38;5;241m=\u001b[39m\u001b[38;5;28;01mTrue\u001b[39;00m)\n\u001b[0;32m      2\u001b[0m dfzenodo_L1_O3b\u001b[38;5;241m.\u001b[39mrename(columns\u001b[38;5;241m=\u001b[39m{\u001b[38;5;124m'\u001b[39m\u001b[38;5;124mml_label\u001b[39m\u001b[38;5;124m'\u001b[39m: \u001b[38;5;124m'\u001b[39m\u001b[38;5;124mlabel\u001b[39m\u001b[38;5;124m'\u001b[39m}, inplace\u001b[38;5;241m=\u001b[39m\u001b[38;5;28;01mTrue\u001b[39;00m)\n",
      "\u001b[1;31mNameError\u001b[0m: name 'dfzenodo_L1_O3a' is not defined"
     ]
    }
   ],
   "source": [
    "dfzenodo_L1_O3a.rename(columns={'ml_label': 'label'}, inplace=True)\n",
    "dfzenodo_L1_O3b.rename(columns={'ml_label': 'label'}, inplace=True)"
   ]
  },
  {
   "cell_type": "markdown",
   "metadata": {
    "id": "5iMnb4QOiKYg"
   },
   "source": [
    "And filter the \"confidence\" values to above 0.9"
   ]
  },
  {
   "cell_type": "code",
   "execution_count": 33,
   "metadata": {
    "colab": {
     "base_uri": "https://localhost:8080/"
    },
    "id": "A5Cc1Ib0lNCP",
    "outputId": "031cdf77-4318-483c-de54-99e8781f8521"
   },
   "outputs": [
    {
     "ename": "NameError",
     "evalue": "name 'dfligo_L1_O3a' is not defined",
     "output_type": "error",
     "traceback": [
      "\u001b[1;31m---------------------------------------------------------------------------\u001b[0m",
      "\u001b[1;31mNameError\u001b[0m                                 Traceback (most recent call last)",
      "Cell \u001b[1;32mIn[33], line 1\u001b[0m\n\u001b[1;32m----> 1\u001b[0m n_above_09a \u001b[38;5;241m=\u001b[39m (dfligo_L1_O3a[\u001b[38;5;124m'\u001b[39m\u001b[38;5;124mconfidence\u001b[39m\u001b[38;5;124m'\u001b[39m] \u001b[38;5;241m>\u001b[39m\u001b[38;5;241m=\u001b[39m \u001b[38;5;241m0.9\u001b[39m)\u001b[38;5;241m.\u001b[39msum()\n\u001b[0;32m      2\u001b[0m n_above_09b \u001b[38;5;241m=\u001b[39m (dfligo_L1_O3b[\u001b[38;5;124m'\u001b[39m\u001b[38;5;124mconfidence\u001b[39m\u001b[38;5;124m'\u001b[39m] \u001b[38;5;241m>\u001b[39m\u001b[38;5;241m=\u001b[39m \u001b[38;5;241m0.9\u001b[39m)\u001b[38;5;241m.\u001b[39msum()\n\u001b[0;32m      4\u001b[0m tam_a \u001b[38;5;241m=\u001b[39m \u001b[38;5;28mlen\u001b[39m(dfligo_L1_O3a)\n",
      "\u001b[1;31mNameError\u001b[0m: name 'dfligo_L1_O3a' is not defined"
     ]
    }
   ],
   "source": [
    "n_above_09a = (dfligo_L1_O3a['confidence'] >= 0.9).sum()\n",
    "n_above_09b = (dfligo_L1_O3b['confidence'] >= 0.9).sum()\n",
    "\n",
    "tam_a = len(dfligo_L1_O3a)\n",
    "tam_b = len(dfligo_L1_O3b)\n",
    "\n",
    "print(f'nice confidence percentage for O3a: {100*n_above_09a/tam_a:.2f}%')\n",
    "print(f'nice confidence percentage for O3b: {100*n_above_09b/tam_b:.2f}%')"
   ]
  },
  {
   "cell_type": "code",
   "execution_count": 35,
   "metadata": {
    "colab": {
     "base_uri": "https://localhost:8080/"
    },
    "id": "w4oIC3U6o7XS",
    "outputId": "88e1ba66-3c58-4531-bf2b-51231eb36cbb"
   },
   "outputs": [
    {
     "ename": "NameError",
     "evalue": "name 'dfligo_L1_O3a' is not defined",
     "output_type": "error",
     "traceback": [
      "\u001b[1;31m---------------------------------------------------------------------------\u001b[0m",
      "\u001b[1;31mNameError\u001b[0m                                 Traceback (most recent call last)",
      "Cell \u001b[1;32mIn[35], line 1\u001b[0m\n\u001b[1;32m----> 1\u001b[0m n_above_09a \u001b[38;5;241m=\u001b[39m (dfligo_L1_O3a[\u001b[38;5;124m'\u001b[39m\u001b[38;5;124mconfidence\u001b[39m\u001b[38;5;124m'\u001b[39m] \u001b[38;5;241m>\u001b[39m\u001b[38;5;241m=\u001b[39m \u001b[38;5;241m0.9\u001b[39m)\u001b[38;5;241m.\u001b[39msum()\n\u001b[0;32m      2\u001b[0m n_above_09b \u001b[38;5;241m=\u001b[39m (dfligo_L1_O3b[\u001b[38;5;124m'\u001b[39m\u001b[38;5;124mconfidence\u001b[39m\u001b[38;5;124m'\u001b[39m] \u001b[38;5;241m>\u001b[39m\u001b[38;5;241m=\u001b[39m \u001b[38;5;241m0.9\u001b[39m)\u001b[38;5;241m.\u001b[39msum()\n\u001b[0;32m      4\u001b[0m tam_a \u001b[38;5;241m=\u001b[39m \u001b[38;5;28mlen\u001b[39m(dfligo_L1_O3a) \u001b[38;5;241m-\u001b[39m dfligo_L1_O3a[\u001b[38;5;124m'\u001b[39m\u001b[38;5;124mlabel\u001b[39m\u001b[38;5;124m'\u001b[39m]\u001b[38;5;241m.\u001b[39mvalue_counts()[\u001b[38;5;124m'\u001b[39m\u001b[38;5;124mNo_Glitch\u001b[39m\u001b[38;5;124m'\u001b[39m]\n",
      "\u001b[1;31mNameError\u001b[0m: name 'dfligo_L1_O3a' is not defined"
     ]
    }
   ],
   "source": [
    "n_above_09a = (dfligo_L1_O3a['confidence'] >= 0.9).sum()\n",
    "n_above_09b = (dfligo_L1_O3b['confidence'] >= 0.9).sum()\n",
    "\n",
    "tam_a = len(dfligo_L1_O3a) - dfligo_L1_O3a['label'].value_counts()['No_Glitch']\n",
    "tam_b = len(dfligo_L1_O3b) - dfligo_L1_O3b['label'].value_counts()['No_Glitch']\n",
    "\n",
    "print(f'nice confidence percentage for O3a: {100*n_above_09a/tam_a:.2f}%')\n",
    "print(f'nice confidence percentage for O3b: {100*n_above_09b/tam_b:.2f}%')"
   ]
  },
  {
   "cell_type": "code",
   "execution_count": 37,
   "metadata": {
    "id": "F4yDTwkyg6gE"
   },
   "outputs": [
    {
     "ename": "NameError",
     "evalue": "name 'dfligo_L1_O3a' is not defined",
     "output_type": "error",
     "traceback": [
      "\u001b[1;31m---------------------------------------------------------------------------\u001b[0m",
      "\u001b[1;31mNameError\u001b[0m                                 Traceback (most recent call last)",
      "Cell \u001b[1;32mIn[37], line 1\u001b[0m\n\u001b[1;32m----> 1\u001b[0m dfligo_L1_O3a \u001b[38;5;241m=\u001b[39m dfligo_L1_O3a[dfligo_L1_O3a[\u001b[38;5;124m'\u001b[39m\u001b[38;5;124mconfidence\u001b[39m\u001b[38;5;124m'\u001b[39m] \u001b[38;5;241m>\u001b[39m \u001b[38;5;241m0.9\u001b[39m]\n\u001b[0;32m      2\u001b[0m dfligo_L1_O3b \u001b[38;5;241m=\u001b[39m dfligo_L1_O3b[dfligo_L1_O3b[\u001b[38;5;124m'\u001b[39m\u001b[38;5;124mconfidence\u001b[39m\u001b[38;5;124m'\u001b[39m] \u001b[38;5;241m>\u001b[39m \u001b[38;5;241m0.9\u001b[39m]\n\u001b[0;32m      4\u001b[0m dfligo_V1_O3a2 \u001b[38;5;241m=\u001b[39m dfligo_V1_O3a[dfligo_V1_O3a[\u001b[38;5;124m'\u001b[39m\u001b[38;5;124mconfidence\u001b[39m\u001b[38;5;124m'\u001b[39m] \u001b[38;5;241m>\u001b[39m \u001b[38;5;241m0.9\u001b[39m]\n",
      "\u001b[1;31mNameError\u001b[0m: name 'dfligo_L1_O3a' is not defined"
     ]
    }
   ],
   "source": [
    "dfligo_L1_O3a = dfligo_L1_O3a[dfligo_L1_O3a['confidence'] > 0.9]\n",
    "dfligo_L1_O3b = dfligo_L1_O3b[dfligo_L1_O3b['confidence'] > 0.9]\n",
    "\n",
    "dfligo_V1_O3a2 = dfligo_V1_O3a[dfligo_V1_O3a['confidence'] > 0.9]\n",
    "dfligo_V1_O3b2 = dfligo_V1_O3b[dfligo_V1_O3b['confidence'] > 0.9]\n",
    "\n",
    "dfzenodo_L1_O3a = dfzenodo_L1_O3a[dfzenodo_L1_O3a['ml_confidence'] > 0.9]\n",
    "dfzenodo_L1_O3b = dfzenodo_L1_O3b[dfzenodo_L1_O3b['ml_confidence'] > 0.9]"
   ]
  },
  {
   "cell_type": "markdown",
   "metadata": {
    "id": "jJOtn2zqg8Mp"
   },
   "source": [
    "Now after aplying the filters, we'll create copies to not modify the original data"
   ]
  },
  {
   "cell_type": "code",
   "execution_count": 40,
   "metadata": {
    "id": "sx9L7AGjg8xo"
   },
   "outputs": [
    {
     "ename": "NameError",
     "evalue": "name 'dfligo_L1_O3a' is not defined",
     "output_type": "error",
     "traceback": [
      "\u001b[1;31m---------------------------------------------------------------------------\u001b[0m",
      "\u001b[1;31mNameError\u001b[0m                                 Traceback (most recent call last)",
      "Cell \u001b[1;32mIn[40], line 1\u001b[0m\n\u001b[1;32m----> 1\u001b[0m df2ligo_L1_O3a \u001b[38;5;241m=\u001b[39m dfligo_L1_O3a\u001b[38;5;241m.\u001b[39mcopy()\n\u001b[0;32m      2\u001b[0m df2ligo_L1_O3b \u001b[38;5;241m=\u001b[39m dfligo_L1_O3b\u001b[38;5;241m.\u001b[39mcopy()\n\u001b[0;32m      4\u001b[0m df2ligo_V1_O3a \u001b[38;5;241m=\u001b[39m dfligo_V1_O3a\u001b[38;5;241m.\u001b[39mcopy()\n",
      "\u001b[1;31mNameError\u001b[0m: name 'dfligo_L1_O3a' is not defined"
     ]
    }
   ],
   "source": [
    "df2ligo_L1_O3a = dfligo_L1_O3a.copy()\n",
    "df2ligo_L1_O3b = dfligo_L1_O3b.copy()\n",
    "\n",
    "df2ligo_V1_O3a = dfligo_V1_O3a.copy()\n",
    "df2ligo_V1_O3b = dfligo_V1_O3b.copy()\n",
    "\n",
    "df2zenodo_L1_O3a = dfzenodo_L1_O3a.copy()\n",
    "df2zenodo_L1_O3b = dfzenodo_L1_O3b.copy()"
   ]
  },
  {
   "cell_type": "markdown",
   "metadata": {
    "id": "16_eCvuWhAK7"
   },
   "source": [
    "This data has a lot of intersting columns that we can use, like \"GPStime\", \"duration\", \"confidence\", label or \"snr\".\n",
    "\n",
    "We can see the O3a run in dataFrame, for exemple"
   ]
  },
  {
   "cell_type": "code",
   "execution_count": 43,
   "metadata": {
    "colab": {
     "base_uri": "https://localhost:8080/",
     "height": 310
    },
    "id": "HYi_DNNcwo4i",
    "outputId": "7dd1c94a-d281-48d9-b42b-1abc1a2f3e00"
   },
   "outputs": [
    {
     "ename": "NameError",
     "evalue": "name 'df2ligo_L1_O3a' is not defined",
     "output_type": "error",
     "traceback": [
      "\u001b[1;31m---------------------------------------------------------------------------\u001b[0m",
      "\u001b[1;31mNameError\u001b[0m                                 Traceback (most recent call last)",
      "Cell \u001b[1;32mIn[43], line 1\u001b[0m\n\u001b[1;32m----> 1\u001b[0m df2ligo_L1_O3a\u001b[38;5;241m.\u001b[39mhead()\n",
      "\u001b[1;31mNameError\u001b[0m: name 'df2ligo_L1_O3a' is not defined"
     ]
    }
   ],
   "source": [
    "df2ligo_L1_O3a.head()"
   ]
  },
  {
   "cell_type": "markdown",
   "metadata": {
    "id": "s6EnKpQEhInJ"
   },
   "source": [
    "Each line is a single Glitch, and the columns represent its parameters"
   ]
  },
  {
   "cell_type": "markdown",
   "metadata": {
    "id": "yC7xeKwJfa-n"
   },
   "source": [
    "## Analyze the frequency of each categorized glitch of O3 in general, but also splitting the analysis for O3a (April 1st 2019 - October 1st 2019) and O3b (November 1st 2019 - March 27th 2020) runs;"
   ]
  },
  {
   "cell_type": "markdown",
   "metadata": {
    "id": "t3P0NsgpvJ9K"
   },
   "source": [
    "Now we'll see the frequence of each glitch for O3a run, from both LIGO and ZENODO websites"
   ]
  },
  {
   "cell_type": "code",
   "execution_count": 48,
   "metadata": {
    "colab": {
     "base_uri": "https://localhost:8080/",
     "height": 607
    },
    "id": "bcT61ID5WHZD",
    "outputId": "2a840720-c814-4498-944a-19222024f988"
   },
   "outputs": [
    {
     "ename": "NameError",
     "evalue": "name 'df2ligo_L1_O3a' is not defined",
     "output_type": "error",
     "traceback": [
      "\u001b[1;31m---------------------------------------------------------------------------\u001b[0m",
      "\u001b[1;31mNameError\u001b[0m                                 Traceback (most recent call last)",
      "Cell \u001b[1;32mIn[48], line 4\u001b[0m\n\u001b[0;32m      1\u001b[0m \u001b[38;5;66;03m# Adicionando uma origem para cada dataFrame, isso faz com que seja possível\u001b[39;00m\n\u001b[0;32m      2\u001b[0m \u001b[38;5;66;03m# acessá-los individualmente caso necessário\u001b[39;00m\n\u001b[1;32m----> 4\u001b[0m df2ligo_L1_O3a[\u001b[38;5;124m'\u001b[39m\u001b[38;5;124mFonte\u001b[39m\u001b[38;5;124m'\u001b[39m] \u001b[38;5;241m=\u001b[39m \u001b[38;5;124m'\u001b[39m\u001b[38;5;124mLigoDV ifo: L1\u001b[39m\u001b[38;5;124m'\u001b[39m\n\u001b[0;32m      5\u001b[0m df2zenodo_L1_O3a[\u001b[38;5;124m'\u001b[39m\u001b[38;5;124mFonte\u001b[39m\u001b[38;5;124m'\u001b[39m] \u001b[38;5;241m=\u001b[39m \u001b[38;5;124m'\u001b[39m\u001b[38;5;124mZenodo ifo: L1\u001b[39m\u001b[38;5;124m'\u001b[39m\n\u001b[0;32m      7\u001b[0m \u001b[38;5;66;03m# Mesclagem dos dataframes para o plot em barras\u001b[39;00m\n",
      "\u001b[1;31mNameError\u001b[0m: name 'df2ligo_L1_O3a' is not defined"
     ]
    }
   ],
   "source": [
    "# Adicionando uma origem para cada dataFrame, isso faz com que seja possível\n",
    "# acessá-los individualmente caso necessário\n",
    "\n",
    "df2ligo_L1_O3a['Fonte'] = 'LigoDV ifo: L1'\n",
    "df2zenodo_L1_O3a['Fonte'] = 'Zenodo ifo: L1'\n",
    "\n",
    "# Mesclagem dos dataframes para o plot em barras\n",
    "df_combined = pd.concat([df2ligo_L1_O3a, df2zenodo_L1_O3a])\n",
    "\n",
    "# Esta parte faz a ordem ser pela soma total de ocorrências, ou seja, os glitches\n",
    "# mais comuns ficam acima dos menos comuns\n",
    "\n",
    "ordered_labels = (\n",
    "    df_combined['label']\n",
    "    .value_counts()\n",
    "    .loc[lambda x: x.index.isin(df_combined['label'].unique())]\n",
    "    .index\n",
    ")\n",
    "\n",
    "plt.figure(figsize=(12, 6))\n",
    "sns.countplot(\n",
    "    data=df_combined,\n",
    "    y='label',\n",
    "    hue='Fonte',\n",
    "    order=ordered_labels,\n",
    "    dodge=True  # reforça o uso de barras lado a lado\n",
    ")\n",
    "\n",
    "plt.title(\"Number of glitches during O3a by source\")\n",
    "plt.xlabel(\"Count\")\n",
    "plt.ylabel(\"Type of glitch\")\n",
    "plt.legend(title='Source')\n",
    "plt.tight_layout()\n",
    "plt.show()"
   ]
  },
  {
   "cell_type": "markdown",
   "metadata": {
    "id": "4t9ppr8Xej7t"
   },
   "source": [
    "And for O3b run too"
   ]
  },
  {
   "cell_type": "code",
   "execution_count": null,
   "metadata": {
    "colab": {
     "base_uri": "https://localhost:8080/",
     "height": 607
    },
    "id": "VzvVTqi7X59e",
    "outputId": "e7908d49-cd48-49d6-bc4f-b0ab411cd5c4"
   },
   "outputs": [],
   "source": [
    "df2ligo_L1_O3b['Fonte'] = 'LigoDV ifo: L1'\n",
    "df2zenodo_L1_O3b['Fonte'] = 'Zenodo ifo: L1'\n",
    "\n",
    "df_combined = pd.concat([df2ligo_L1_O3b, df2zenodo_L1_O3b])\n",
    "\n",
    "ordered_labels = (\n",
    "    df_combined['label']\n",
    "    .value_counts()\n",
    "    .loc[lambda x: x.index.isin(df_combined['label'].unique())]\n",
    "    .index\n",
    ")\n",
    "\n",
    "plt.figure(figsize=(12, 6))\n",
    "sns.countplot(\n",
    "    data=df_combined,\n",
    "    y='label',\n",
    "    hue='Fonte',\n",
    "    order=ordered_labels,\n",
    "    dodge=True  # reforça o uso de barras lado a lado\n",
    ")\n",
    "\n",
    "plt.title(\"Number of glitches during O3b by source\")\n",
    "plt.xlabel(\"Count\")\n",
    "plt.ylabel(\"Type of glitch\")\n",
    "plt.legend(title='Source')\n",
    "plt.tight_layout()\n",
    "plt.show()"
   ]
  },
  {
   "cell_type": "markdown",
   "metadata": {
    "id": "Zw_xiuhAbBx0"
   },
   "source": [
    "We can see that fast-scattering and scattering-light are the glitches that occurred the most during the O3b run - around November 1st 2019 - March 27th 2020. This agreed with Tabata teses (https://www.gov.br/inpe/pt-br/area-conhecimento/posgraduacao/ast/repositorio-de-arquivos/teses/tese_tabata_aira_ferreira.pdf).\n",
    "\n",
    "The LIGO website has data from V1 interferometer, let we see"
   ]
  },
  {
   "cell_type": "code",
   "execution_count": null,
   "metadata": {
    "colab": {
     "base_uri": "https://localhost:8080/",
     "height": 507
    },
    "id": "6Z1GUPpMX6AP",
    "outputId": "dbf76985-9524-43bb-c57e-d740592098be"
   },
   "outputs": [],
   "source": [
    "plt.figure(figsize=(12, 5))\n",
    "\n",
    "sns.countplot(data=df2ligo_V1_O3a, y='label', order=df2ligo_V1_O3a['label'].value_counts().index)\n",
    "plt.title(\"Number of gitches during O3a from LigoDV (V1 interferometer)\")\n",
    "plt.xlabel(\"Count\")\n",
    "plt.ylabel(\"Type of glitch\")\n",
    "\n",
    "plt.tight_layout()\n",
    "plt.show()"
   ]
  },
  {
   "cell_type": "code",
   "execution_count": null,
   "metadata": {
    "colab": {
     "base_uri": "https://localhost:8080/",
     "height": 507
    },
    "id": "ltfgIFu4X6DX",
    "outputId": "f26ec0ef-9182-4df6-bac8-5f0e9cbfbd0b"
   },
   "outputs": [],
   "source": [
    "plt.figure(figsize=(12, 5))\n",
    "\n",
    "sns.countplot(data=df2ligo_V1_O3b, y='label', order=df2ligo_V1_O3b['label'].value_counts().index)\n",
    "plt.title(\"Number of gitches during O3b from LigoDV (V1 interferometer)\")\n",
    "plt.xlabel(\"Count\")\n",
    "plt.ylabel(\"Type of glitch\")\n",
    "\n",
    "plt.tight_layout()\n",
    "plt.show()"
   ]
  },
  {
   "cell_type": "markdown",
   "metadata": {
    "id": "jowC1go56DR7"
   },
   "source": [
    "## Time-tracking of the incidence of each glitch category throughout O3 (monthly, by season, …);"
   ]
  },
  {
   "cell_type": "code",
   "execution_count": 54,
   "metadata": {
    "colab": {
     "base_uri": "https://localhost:8080/",
     "height": 328
    },
    "id": "1m-u5C_UKsnw",
    "outputId": "aaa33041-03fb-4c10-a929-ea2e1337cae5"
   },
   "outputs": [
    {
     "ename": "NameError",
     "evalue": "name 'df2ligo_V1_O3a' is not defined",
     "output_type": "error",
     "traceback": [
      "\u001b[1;31m---------------------------------------------------------------------------\u001b[0m",
      "\u001b[1;31mNameError\u001b[0m                                 Traceback (most recent call last)",
      "Cell \u001b[1;32mIn[54], line 1\u001b[0m\n\u001b[1;32m----> 1\u001b[0m df_sortedO3a \u001b[38;5;241m=\u001b[39m df2ligo_V1_O3a\u001b[38;5;241m.\u001b[39msort_values(by\u001b[38;5;241m=\u001b[39m\u001b[38;5;124m'\u001b[39m\u001b[38;5;124mGPStime\u001b[39m\u001b[38;5;124m'\u001b[39m, ascending\u001b[38;5;241m=\u001b[39m\u001b[38;5;28;01mTrue\u001b[39;00m)\n\u001b[0;32m      2\u001b[0m df_sortedO3b \u001b[38;5;241m=\u001b[39m df2ligo_V1_O3b\u001b[38;5;241m.\u001b[39msort_values(by\u001b[38;5;241m=\u001b[39m\u001b[38;5;124m'\u001b[39m\u001b[38;5;124mGPStime\u001b[39m\u001b[38;5;124m'\u001b[39m, ascending\u001b[38;5;241m=\u001b[39m\u001b[38;5;28;01mTrue\u001b[39;00m)\n\u001b[0;32m      4\u001b[0m \u001b[38;5;28mprint\u001b[39m(df_sortedO3a\u001b[38;5;241m.\u001b[39mshape)\n",
      "\u001b[1;31mNameError\u001b[0m: name 'df2ligo_V1_O3a' is not defined"
     ]
    }
   ],
   "source": [
    "df_sortedO3a = df2ligo_V1_O3a.sort_values(by='GPStime', ascending=True)\n",
    "df_sortedO3b = df2ligo_V1_O3b.sort_values(by='GPStime', ascending=True)\n",
    "\n",
    "print(df_sortedO3a.shape)\n",
    "df_sortedO3a.tail()"
   ]
  },
  {
   "cell_type": "code",
   "execution_count": 56,
   "metadata": {},
   "outputs": [
    {
     "ename": "NameError",
     "evalue": "name 'df_sortedO3a' is not defined",
     "output_type": "error",
     "traceback": [
      "\u001b[1;31m---------------------------------------------------------------------------\u001b[0m",
      "\u001b[1;31mNameError\u001b[0m                                 Traceback (most recent call last)",
      "Cell \u001b[1;32mIn[56], line 1\u001b[0m\n\u001b[1;32m----> 1\u001b[0m df_Scattered_Light \u001b[38;5;241m=\u001b[39m df_sortedO3a[df_sortedO3a[\u001b[38;5;124m'\u001b[39m\u001b[38;5;124mlabel\u001b[39m\u001b[38;5;124m'\u001b[39m] \u001b[38;5;241m==\u001b[39m \u001b[38;5;124m'\u001b[39m\u001b[38;5;124mScattered_Light\u001b[39m\u001b[38;5;124m'\u001b[39m]\n\u001b[0;32m      2\u001b[0m df_Low_Frequency_Lines \u001b[38;5;241m=\u001b[39m df_sortedO3a[df_sortedO3a[\u001b[38;5;124m'\u001b[39m\u001b[38;5;124mlabel\u001b[39m\u001b[38;5;124m'\u001b[39m] \u001b[38;5;241m==\u001b[39m \u001b[38;5;124m'\u001b[39m\u001b[38;5;124mLow_Frequency_Lines\u001b[39m\u001b[38;5;124m'\u001b[39m]\n\u001b[0;32m      3\u001b[0m df_Low_Frequency_Burst \u001b[38;5;241m=\u001b[39m df_sortedO3a[df_sortedO3a[\u001b[38;5;124m'\u001b[39m\u001b[38;5;124mlabel\u001b[39m\u001b[38;5;124m'\u001b[39m] \u001b[38;5;241m==\u001b[39m \u001b[38;5;124m'\u001b[39m\u001b[38;5;124mLow_Frequency_Burst\u001b[39m\u001b[38;5;124m'\u001b[39m]\n",
      "\u001b[1;31mNameError\u001b[0m: name 'df_sortedO3a' is not defined"
     ]
    }
   ],
   "source": [
    "df_Scattered_Light = df_sortedO3a[df_sortedO3a['label'] == 'Scattered_Light']\n",
    "df_Low_Frequency_Lines = df_sortedO3a[df_sortedO3a['label'] == 'Low_Frequency_Lines']\n",
    "df_Low_Frequency_Burst = df_sortedO3a[df_sortedO3a['label'] == 'Low_Frequency_Burst']"
   ]
  },
  {
   "cell_type": "code",
   "execution_count": 58,
   "metadata": {},
   "outputs": [
    {
     "ename": "NameError",
     "evalue": "name 'df_Scattered_Light' is not defined",
     "output_type": "error",
     "traceback": [
      "\u001b[1;31m---------------------------------------------------------------------------\u001b[0m",
      "\u001b[1;31mNameError\u001b[0m                                 Traceback (most recent call last)",
      "Cell \u001b[1;32mIn[58], line 8\u001b[0m\n\u001b[0;32m      1\u001b[0m gps_epoch \u001b[38;5;241m=\u001b[39m pd\u001b[38;5;241m.\u001b[39mTimestamp(\u001b[38;5;124m'\u001b[39m\u001b[38;5;124m1980-01-06 00:00:00\u001b[39m\u001b[38;5;124m'\u001b[39m, tz\u001b[38;5;241m=\u001b[39m\u001b[38;5;124m'\u001b[39m\u001b[38;5;124mUTC\u001b[39m\u001b[38;5;124m'\u001b[39m)\n\u001b[0;32m      4\u001b[0m \u001b[38;5;66;03m# df_Scattered_Light['GPStime'] = gps_epoch + pd.to_datetime(df_Scattered_Light['GPStime'], unit='s', origin='unix', errors='coerce')\u001b[39;00m\n\u001b[0;32m      5\u001b[0m \u001b[38;5;66;03m# df_Low_Frequency_Lines['GPStime'] = gps_epoch + pd.to_datetime(df_Low_Frequency_Lines['GPStime'], unit='s', origin='unix', errors='coerce')\u001b[39;00m\n\u001b[0;32m      6\u001b[0m \u001b[38;5;66;03m# df_Low_Frequency_Burst['GPStime'] = gps_epoch + pd.to_datetime(df_Low_Frequency_Burst['GPStime'], unit='s', origin='unix', errors='coerce')\u001b[39;00m\n\u001b[1;32m----> 8\u001b[0m df_Scattered_Light[\u001b[38;5;124m'\u001b[39m\u001b[38;5;124mGPStime\u001b[39m\u001b[38;5;124m'\u001b[39m] \u001b[38;5;241m=\u001b[39m gps_epoch \u001b[38;5;241m+\u001b[39m pd\u001b[38;5;241m.\u001b[39mto_timedelta(df_Scattered_Light[\u001b[38;5;124m'\u001b[39m\u001b[38;5;124mGPStime\u001b[39m\u001b[38;5;124m'\u001b[39m], unit\u001b[38;5;241m=\u001b[39m\u001b[38;5;124m'\u001b[39m\u001b[38;5;124ms\u001b[39m\u001b[38;5;124m'\u001b[39m)\n\u001b[0;32m      9\u001b[0m df_Low_Frequency_Lines[\u001b[38;5;124m'\u001b[39m\u001b[38;5;124mGPStime\u001b[39m\u001b[38;5;124m'\u001b[39m] \u001b[38;5;241m=\u001b[39m gps_epoch \u001b[38;5;241m+\u001b[39m pd\u001b[38;5;241m.\u001b[39mto_timedelta(df_Low_Frequency_Lines[\u001b[38;5;124m'\u001b[39m\u001b[38;5;124mGPStime\u001b[39m\u001b[38;5;124m'\u001b[39m], unit\u001b[38;5;241m=\u001b[39m\u001b[38;5;124m'\u001b[39m\u001b[38;5;124ms\u001b[39m\u001b[38;5;124m'\u001b[39m)\n\u001b[0;32m     10\u001b[0m df_Low_Frequency_Burst[\u001b[38;5;124m'\u001b[39m\u001b[38;5;124mGPStime\u001b[39m\u001b[38;5;124m'\u001b[39m] \u001b[38;5;241m=\u001b[39m gps_epoch \u001b[38;5;241m+\u001b[39m pd\u001b[38;5;241m.\u001b[39mto_timedelta(df_Low_Frequency_Burst[\u001b[38;5;124m'\u001b[39m\u001b[38;5;124mGPStime\u001b[39m\u001b[38;5;124m'\u001b[39m], unit\u001b[38;5;241m=\u001b[39m\u001b[38;5;124m'\u001b[39m\u001b[38;5;124ms\u001b[39m\u001b[38;5;124m'\u001b[39m)\n",
      "\u001b[1;31mNameError\u001b[0m: name 'df_Scattered_Light' is not defined"
     ]
    }
   ],
   "source": [
    "gps_epoch = pd.Timestamp('1980-01-06 00:00:00', tz='UTC')\n",
    "\n",
    "\n",
    "# df_Scattered_Light['GPStime'] = gps_epoch + pd.to_datetime(df_Scattered_Light['GPStime'], unit='s', origin='unix', errors='coerce')\n",
    "# df_Low_Frequency_Lines['GPStime'] = gps_epoch + pd.to_datetime(df_Low_Frequency_Lines['GPStime'], unit='s', origin='unix', errors='coerce')\n",
    "# df_Low_Frequency_Burst['GPStime'] = gps_epoch + pd.to_datetime(df_Low_Frequency_Burst['GPStime'], unit='s', origin='unix', errors='coerce')\n",
    "\n",
    "df_Scattered_Light['GPStime'] = gps_epoch + pd.to_timedelta(df_Scattered_Light['GPStime'], unit='s')\n",
    "df_Low_Frequency_Lines['GPStime'] = gps_epoch + pd.to_timedelta(df_Low_Frequency_Lines['GPStime'], unit='s')\n",
    "df_Low_Frequency_Burst['GPStime'] = gps_epoch + pd.to_timedelta(df_Low_Frequency_Burst['GPStime'], unit='s')\n",
    "\n",
    "# Histograma dos 'n' glitches escolhidos\n",
    "plt.figure(figsize=(10,4))\n",
    "\n",
    "plt.hist([df_Scattered_Light['GPStime'], df_Low_Frequency_Lines['GPStime'], df_Low_Frequency_Burst['GPStime']], \n",
    "         bins=24,\n",
    "         label = ['df_Scattered_Light', 'df_Low_Frequency_Lines', 'df_Low_Frequency_Burst'],\n",
    "         color=['lightblue', 'green', 'red'], alpha=0.5)\n",
    "\n",
    "# Eixo x em medida temporal (a variável \"bins\" modifica o período a ser visualizado)\n",
    "plt.gca().xaxis.set_major_formatter(mdates.DateFormatter('%Y-%m'))\n",
    "plt.xticks(rotation=45)\n",
    "plt.xlabel(\"Time\")\n",
    "plt.ylabel(\"nuumbers of glitches\")\n",
    "plt.title(\"O3a Histogram\")\n",
    "\n",
    "plt.legend()\n",
    "plt.tight_layout()\n",
    "plt.show()"
   ]
  },
  {
   "cell_type": "code",
   "execution_count": 60,
   "metadata": {},
   "outputs": [
    {
     "ename": "NameError",
     "evalue": "name 'df_Scattered_Light' is not defined",
     "output_type": "error",
     "traceback": [
      "\u001b[1;31m---------------------------------------------------------------------------\u001b[0m",
      "\u001b[1;31mNameError\u001b[0m                                 Traceback (most recent call last)",
      "Cell \u001b[1;32mIn[60], line 1\u001b[0m\n\u001b[1;32m----> 1\u001b[0m df_Scattered_Light[\u001b[38;5;124m'\u001b[39m\u001b[38;5;124mdatetime\u001b[39m\u001b[38;5;124m'\u001b[39m] \u001b[38;5;241m=\u001b[39m pd\u001b[38;5;241m.\u001b[39mto_datetime(df_Scattered_Light[\u001b[38;5;124m'\u001b[39m\u001b[38;5;124mGPStime\u001b[39m\u001b[38;5;124m'\u001b[39m], unit\u001b[38;5;241m=\u001b[39m\u001b[38;5;124m'\u001b[39m\u001b[38;5;124ms\u001b[39m\u001b[38;5;124m'\u001b[39m)\n\u001b[0;32m      2\u001b[0m df_Scattered_Light\u001b[38;5;241m.\u001b[39mset_index(\u001b[38;5;124m'\u001b[39m\u001b[38;5;124mdatetime\u001b[39m\u001b[38;5;124m'\u001b[39m, inplace\u001b[38;5;241m=\u001b[39m\u001b[38;5;28;01mTrue\u001b[39;00m)\n\u001b[0;32m      4\u001b[0m df_Low_Frequency_Lines[\u001b[38;5;124m'\u001b[39m\u001b[38;5;124mdatetime\u001b[39m\u001b[38;5;124m'\u001b[39m] \u001b[38;5;241m=\u001b[39m pd\u001b[38;5;241m.\u001b[39mto_datetime(df_Low_Frequency_Lines[\u001b[38;5;124m'\u001b[39m\u001b[38;5;124mGPStime\u001b[39m\u001b[38;5;124m'\u001b[39m], unit\u001b[38;5;241m=\u001b[39m\u001b[38;5;124m'\u001b[39m\u001b[38;5;124ms\u001b[39m\u001b[38;5;124m'\u001b[39m)\n",
      "\u001b[1;31mNameError\u001b[0m: name 'df_Scattered_Light' is not defined"
     ]
    }
   ],
   "source": [
    "df_Scattered_Light['datetime'] = pd.to_datetime(df_Scattered_Light['GPStime'], unit='s')\n",
    "df_Scattered_Light.set_index('datetime', inplace=True)\n",
    "\n",
    "df_Low_Frequency_Lines['datetime'] = pd.to_datetime(df_Low_Frequency_Lines['GPStime'], unit='s')\n",
    "df_Low_Frequency_Lines.set_index('datetime', inplace=True)\n",
    "\n",
    "df_Low_Frequency_Burst['datetime'] = pd.to_datetime(df_Low_Frequency_Burst['GPStime'], unit='s')\n",
    "df_Low_Frequency_Burst.set_index('datetime', inplace=True)\n",
    "\n",
    "mensal_1 = df_Scattered_Light.resample('w').size()\n",
    "mensal_2 = df_Low_Frequency_Lines.resample('w').size()\n",
    "mensal_3 = df_Low_Frequency_Burst.resample('w').size()\n",
    "\n",
    "plt.figure(figsize=(10,5))\n",
    "plt.plot(mensal_1.index, mensal_1.values, marker='o', color='lightblue', linestyle='-', label='Scattered_Light')\n",
    "plt.plot(mensal_2.index, mensal_2.values, marker='o', color='green', linestyle='-', label='Low_Frequency_Lines')\n",
    "plt.plot(mensal_3.index, mensal_3.values, marker='o', color='lightcoral', linestyle='-', label='Low_Frequency_Burst')\n",
    "\n",
    "plt.gca().xaxis.set_major_formatter(mdates.DateFormatter('%Y-%m'))\n",
    "plt.gcf().autofmt_xdate()\n",
    "plt.xlabel('Time')\n",
    "plt.ylabel('Numbers of Glitches')\n",
    "plt.title('O3a Run Events')\n",
    "\n",
    "plt.legend()\n",
    "plt.tight_layout()\n",
    "plt.show()"
   ]
  },
  {
   "cell_type": "code",
   "execution_count": null,
   "metadata": {},
   "outputs": [],
   "source": []
  },
  {
   "cell_type": "markdown",
   "metadata": {},
   "source": [
    "## Funções para plots em linha"
   ]
  },
  {
   "cell_type": "code",
   "execution_count": null,
   "metadata": {},
   "outputs": [
    {
     "name": "stdin",
     "output_type": "stream",
     "text": [
      "glitches_number = Quantos glithes você quer escolher?  1\n"
     ]
    }
   ],
   "source": [
    "# função de chamada para os glitches\n",
    "\n",
    "glitches_number, glitches_chosen, time_key = ff.call_function()"
   ]
  },
  {
   "cell_type": "code",
   "execution_count": null,
   "metadata": {},
   "outputs": [],
   "source": [
    "# função para analisar dependencias nos inputs\n",
    "ff.inputs_dependences(df_sortedO3a, glitches_number, glitches_chosen, time_key)"
   ]
  },
  {
   "cell_type": "code",
   "execution_count": null,
   "metadata": {},
   "outputs": [],
   "source": [
    "ff.plot_function(df_sortedO3a, glitches_number, glitches_chosen, time_key)"
   ]
  },
  {
   "cell_type": "code",
   "execution_count": null,
   "metadata": {},
   "outputs": [],
   "source": []
  },
  {
   "cell_type": "code",
   "execution_count": null,
   "metadata": {},
   "outputs": [],
   "source": []
  },
  {
   "cell_type": "code",
   "execution_count": null,
   "metadata": {
    "id": "liAsQD9JMDAD"
   },
   "outputs": [],
   "source": [
    "apr = Time('2019-04-01T00:00:00', format='isot', scale='utc').gps\n",
    "may = Time('2019-05-01T00:00:00', format='isot', scale='utc').gps\n",
    "jun = Time('2019-06-01T00:00:00', format='isot', scale='utc').gps\n",
    "jul = Time('2019-07-01T00:00:00', format='isot', scale='utc').gps\n",
    "aug = Time('2019-08-01T00:00:00', format='isot', scale='utc').gps\n",
    "sep = Time('2019-09-01T00:00:00', format='isot', scale='utc').gps\n",
    "oct = Time('2019-10-01T00:00:00', format='isot', scale='utc').gps\n",
    "\n",
    "nov = Time('2019-11-01T00:00:00', format='isot', scale='utc').gps\n",
    "dez = Time('2019-12-01T00:00:00', format='isot', scale='utc').gps\n",
    "jan = Time('2020-01-01T00:00:00', format='isot', scale='utc').gps\n",
    "feb = Time('2020-02-01T00:00:00', format='isot', scale='utc').gps\n",
    "mar = Time('2020-03-01T00:00:00', format='isot', scale='utc').gps\n",
    "mar27 = Time('2020-03-27T00:00:00', format='isot', scale='utc').gps"
   ]
  },
  {
   "cell_type": "code",
   "execution_count": null,
   "metadata": {
    "id": "_-nIJ963VNf7"
   },
   "outputs": [],
   "source": [
    "O3a_apr = df_sortedO3a[(df_sortedO3a['GPStime'] >= apr) & (df_sortedO3a['GPStime'] < may)]\n",
    "O3a_may = df_sortedO3a[(df_sortedO3a['GPStime'] >= may) & (df_sortedO3a['GPStime'] < jun)]\n",
    "O3a_jne = df_sortedO3a[(df_sortedO3a['GPStime'] >= jun) & (df_sortedO3a['GPStime'] < jul)]\n",
    "O3a_jul = df_sortedO3a[(df_sortedO3a['GPStime'] >= jul) & (df_sortedO3a['GPStime'] < aug)]\n",
    "O3a_aug = df_sortedO3a[(df_sortedO3a['GPStime'] >= aug) & (df_sortedO3a['GPStime'] < sep)]\n",
    "O3a_sep = df_sortedO3a[(df_sortedO3a['GPStime'] >= sep) & (df_sortedO3a['GPStime'] < oct)]\n",
    "\n",
    "O3b_nov = df_sortedO3b[(df_sortedO3b['GPStime'] >= nov) & (df_sortedO3b['GPStime'] < dez)]\n",
    "O3b_dez = df_sortedO3b[(df_sortedO3b['GPStime'] >= dez) & (df_sortedO3b['GPStime'] < jan)]\n",
    "O3b_jan = df_sortedO3b[(df_sortedO3b['GPStime'] >= jan) & (df_sortedO3b['GPStime'] < feb)]\n",
    "O3b_feb = df_sortedO3b[(df_sortedO3b['GPStime'] >= feb) & (df_sortedO3b['GPStime'] < mar)]\n",
    "O3b_mar = df_sortedO3b[(df_sortedO3b['GPStime'] >= mar) & (df_sortedO3b['GPStime'] < mar27)]"
   ]
  },
  {
   "cell_type": "code",
   "execution_count": null,
   "metadata": {
    "colab": {
     "base_uri": "https://localhost:8080/",
     "height": 607
    },
    "id": "yZ9bF-oSYQ9I",
    "outputId": "881c6ccb-1628-4cc1-84c4-6042d6c33f34"
   },
   "outputs": [],
   "source": [
    "O3a_apr['Fonte'] = 'april'\n",
    "O3a_jne['Fonte'] = 'june'\n",
    "O3a_sep['Fonte'] = 'sep'\n",
    "\n",
    "df_combined = pd.concat([O3a_apr, O3a_jne, O3a_jne, O3a_sep])\n",
    "\n",
    "ordered_labels = (\n",
    "    df_combined['label']\n",
    "    .value_counts()\n",
    "    .loc[lambda x: x.index.isin(df_combined['label'].unique())]\n",
    "    .index\n",
    ")\n",
    "\n",
    "plt.figure(figsize=(12, 6))\n",
    "sns.countplot(\n",
    "    data=df_combined,\n",
    "    y='label',\n",
    "    hue='Fonte',\n",
    "    order=ordered_labels,\n",
    "    dodge=True  # reforça o uso de barras lado a lado\n",
    ")\n",
    "\n",
    "plt.title(\"Number of glitches during O3a run by month (ifo: V1)\")\n",
    "plt.xlabel(\"Count\")\n",
    "plt.ylabel(\"Type of glitch\")\n",
    "plt.legend(title='Month')\n",
    "plt.tight_layout()\n",
    "plt.show()"
   ]
  },
  {
   "cell_type": "code",
   "execution_count": null,
   "metadata": {
    "colab": {
     "base_uri": "https://localhost:8080/",
     "height": 607
    },
    "id": "0xDj2sHLdGq3",
    "outputId": "86fb4cb1-f084-4b33-97cb-4599e4a23d1a"
   },
   "outputs": [],
   "source": [
    "O3b_nov['Fonte'] = 'november'\n",
    "O3b_jan['Fonte'] = 'january'\n",
    "O3b_mar['Fonte'] = 'march'\n",
    "\n",
    "df_combined = pd.concat([O3b_nov, O3b_jan, O3b_mar])\n",
    "\n",
    "ordered_labels = (\n",
    "    df_combined['label']\n",
    "    .value_counts()\n",
    "    .loc[lambda x: x.index.isin(df_combined['label'].unique())]\n",
    "    .index\n",
    ")\n",
    "\n",
    "plt.figure(figsize=(12, 6))\n",
    "sns.countplot(\n",
    "    data=df_combined,\n",
    "    y='label',\n",
    "    hue='Fonte',\n",
    "    order=ordered_labels,\n",
    "    dodge=True  # reforça o uso de barras lado a lado\n",
    ")\n",
    "\n",
    "plt.title(\"Number of glitches during O3b run by month (ifo: V1)\")\n",
    "plt.xlabel(\"Count\")\n",
    "plt.ylabel(\"Type of glitch\")\n",
    "plt.legend(title='Month')\n",
    "plt.tight_layout()\n",
    "plt.show()"
   ]
  },
  {
   "cell_type": "code",
   "execution_count": null,
   "metadata": {
    "id": "jIswxm58s2S3"
   },
   "outputs": [],
   "source": []
  },
  {
   "cell_type": "code",
   "execution_count": null,
   "metadata": {},
   "outputs": [],
   "source": []
  }
 ],
 "metadata": {
  "colab": {
   "provenance": []
  },
  "kernelspec": {
   "display_name": "Python 3 (ipykernel)",
   "language": "python",
   "name": "python3"
  },
  "language_info": {
   "codemirror_mode": {
    "name": "ipython",
    "version": 3
   },
   "file_extension": ".py",
   "mimetype": "text/x-python",
   "name": "python",
   "nbconvert_exporter": "python",
   "pygments_lexer": "ipython3",
   "version": "3.11.7"
  }
 },
 "nbformat": 4,
 "nbformat_minor": 4
}
